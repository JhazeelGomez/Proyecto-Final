{
 "cells": [
  {
   "cell_type": "markdown",
   "metadata": {},
   "source": [
    "# Proyecto Final -- Telecomunicaciones"
   ]
  },
  {
   "cell_type": "markdown",
   "metadata": {},
   "source": [
    "## Descripción del proyecto\n",
    "\n",
    "Telecomunicaciones: identificar operadores ineficaces\n",
    "\n",
    "En los servicios de telecomunicaciones, la calidad de las interacciones entre los operadores y los clientes es fundamental para garantizar una experiencia satisfactoria. \n",
    "No todos los operadores trabajan con el mismo nivel de eficiencia; Factores como una alta cantidad de llamadas perdidas, tiempos de espera prolongadoS, pueden  ser indicadores de ineficiencia.\n",
    "\n",
    "El servicio de telefonía virtual CallMeMaybe busca implementar una nueva función que brindará información clave  a los supervisores sobre los operadores menos eficaces.\n",
    "\n",
    "El objetivo es optimizar la eficiencia operativa y mejorar la experiencia del cliente mediante la detección temprana de ineficiencias y su resolución.\n",
    "\n",
    "Los datasets contienen información sobre el uso del servicio de telefonía virtual CallMeMaybe. El análisis de estos datos permitirá a los supervisores tomar decisiones informadas, optimizar el rendimiento del equipo y mejorar la calidad del servicio ofrecido."
   ]
  },
  {
   "cell_type": "markdown",
   "metadata": {},
   "source": [
    "### Objetivos Principales del Proyecto\n",
    "\n",
    "**Lleva a cabo el análisis exploratorio de datos:** Comprender la estructura del dataset(tipos de llamadas entrantes, salientes, internas, tiempos de espera, llamadas perdidas, identificar posibles anomalías en los datos.\n",
    "\n",
    "**Identificar operadores ineficaces** Definir los criterios para poder clasificar a un operador como ineficaz.\n",
    "\n",
    "**Pruebas de hipótesis Estadística:** Verificar si los operadores ineficaces tienen un impacto significativo en el desempeño general del servicio."
   ]
  },
  {
   "cell_type": "markdown",
   "metadata": {},
   "source": [
    "## Lectura de datos"
   ]
  },
  {
   "cell_type": "code",
   "execution_count": null,
   "metadata": {},
   "outputs": [],
   "source": [
    "# Importamos las librerias necesarias \n",
    "import pandas as pd\n",
    "import seaborn as sns\n",
    "import numpy as np\n",
    "import matplotlib.pyplot as plt\n",
    "\n",
    "from scipy.cluster.hierarchy import dendrogram,linkage\n",
    "from sklearn.cluster import KMeans\n",
    "from sklearn.ensemble import GradientBoostingRegressor, RandomForestRegressor\n",
    "from sklearn.linear_model import Lasso,LogisticRegression, Ridge \n",
    "from sklearn.metrics import classification_report, silhouette_score,roc_auc_score\n",
    "from sklearn.metrics import mean_absolute_error, mean_squared_error, r2_score\n",
    "from sklearn.model_selection import train_test_split\n",
    "from sklearn.preprocessing import StandardScaler\n",
    "from sklearn.tree import DecisionTreeRegressor\n"
   ]
  },
  {
   "cell_type": "code",
   "execution_count": null,
   "metadata": {},
   "outputs": [],
   "source": [
    "#leer el archivo\n",
    "telecom_data = pd.read_csv('telecom_dataset_us.csv')\n",
    "telecom_clients = pd.read_csv('telecom_clients_us.csv')"
   ]
  },
  {
   "cell_type": "code",
   "execution_count": null,
   "metadata": {},
   "outputs": [
    {
     "name": "stdout",
     "output_type": "stream",
     "text": [
      "   user_id                       date direction internal  operator_id  \\\n",
      "0   166377  2019-08-04 00:00:00+03:00        in    False          NaN   \n",
      "1   166377  2019-08-05 00:00:00+03:00       out     True     880022.0   \n",
      "2   166377  2019-08-05 00:00:00+03:00       out     True     880020.0   \n",
      "3   166377  2019-08-05 00:00:00+03:00       out     True     880020.0   \n",
      "4   166377  2019-08-05 00:00:00+03:00       out    False     880022.0   \n",
      "\n",
      "   is_missed_call  calls_count  call_duration  total_call_duration  \n",
      "0            True            2              0                    4  \n",
      "1            True            3              0                    5  \n",
      "2            True            1              0                    1  \n",
      "3           False            1             10                   18  \n",
      "4            True            3              0                   25  \n"
     ]
    }
   ],
   "source": [
    "# Mostrar las primeras filas del DataFrame para verificar los datos\n",
    "print(telecom_data.head())"
   ]
  },
  {
   "cell_type": "code",
   "execution_count": null,
   "metadata": {},
   "outputs": [
    {
     "name": "stdout",
     "output_type": "stream",
     "text": [
      "   user_id tariff_plan  date_start\n",
      "0   166713           A  2019-08-15\n",
      "1   166901           A  2019-08-23\n",
      "2   168527           A  2019-10-29\n",
      "3   167097           A  2019-09-01\n",
      "4   168193           A  2019-10-16\n"
     ]
    }
   ],
   "source": [
    "# Mostrar las primeras filas del DataFrame para verificar los datos\n",
    "print(telecom_clients.head())"
   ]
  },
  {
   "cell_type": "code",
   "execution_count": null,
   "metadata": {},
   "outputs": [
    {
     "name": "stdout",
     "output_type": "stream",
     "text": [
      "<class 'pandas.core.frame.DataFrame'>\n",
      "RangeIndex: 53902 entries, 0 to 53901\n",
      "Data columns (total 9 columns):\n",
      " #   Column               Non-Null Count  Dtype  \n",
      "---  ------               --------------  -----  \n",
      " 0   user_id              53902 non-null  int64  \n",
      " 1   date                 53902 non-null  object \n",
      " 2   direction            53902 non-null  object \n",
      " 3   internal             53785 non-null  object \n",
      " 4   operator_id          45730 non-null  float64\n",
      " 5   is_missed_call       53902 non-null  bool   \n",
      " 6   calls_count          53902 non-null  int64  \n",
      " 7   call_duration        53902 non-null  int64  \n",
      " 8   total_call_duration  53902 non-null  int64  \n",
      "dtypes: bool(1), float64(1), int64(4), object(3)\n",
      "memory usage: 3.3+ MB\n",
      "None\n"
     ]
    }
   ],
   "source": [
    "# Verificar información general del DataFrame \n",
    "print(telecom_data.info())"
   ]
  },
  {
   "cell_type": "code",
   "execution_count": null,
   "metadata": {},
   "outputs": [
    {
     "name": "stdout",
     "output_type": "stream",
     "text": [
      "<class 'pandas.core.frame.DataFrame'>\n",
      "RangeIndex: 732 entries, 0 to 731\n",
      "Data columns (total 3 columns):\n",
      " #   Column       Non-Null Count  Dtype \n",
      "---  ------       --------------  ----- \n",
      " 0   user_id      732 non-null    int64 \n",
      " 1   tariff_plan  732 non-null    object\n",
      " 2   date_start   732 non-null    object\n",
      "dtypes: int64(1), object(2)\n",
      "memory usage: 17.3+ KB\n",
      "None\n"
     ]
    }
   ],
   "source": [
    "# Verificar información general del DataFrame \n",
    "print(telecom_clients.info())"
   ]
  },
  {
   "cell_type": "code",
   "execution_count": null,
   "metadata": {},
   "outputs": [
    {
     "data": {
      "text/html": [
       "<div>\n",
       "<style scoped>\n",
       "    .dataframe tbody tr th:only-of-type {\n",
       "        vertical-align: middle;\n",
       "    }\n",
       "\n",
       "    .dataframe tbody tr th {\n",
       "        vertical-align: top;\n",
       "    }\n",
       "\n",
       "    .dataframe thead th {\n",
       "        text-align: right;\n",
       "    }\n",
       "</style>\n",
       "<table border=\"1\" class=\"dataframe\">\n",
       "  <thead>\n",
       "    <tr style=\"text-align: right;\">\n",
       "      <th></th>\n",
       "      <th>user_id</th>\n",
       "      <th>date</th>\n",
       "      <th>direction</th>\n",
       "      <th>internal</th>\n",
       "      <th>operator_id</th>\n",
       "      <th>is_missed_call</th>\n",
       "      <th>calls_count</th>\n",
       "      <th>call_duration</th>\n",
       "      <th>total_call_duration</th>\n",
       "    </tr>\n",
       "  </thead>\n",
       "  <tbody>\n",
       "    <tr>\n",
       "      <th>44800</th>\n",
       "      <td>168062</td>\n",
       "      <td>2019-11-11 00:00:00+03:00</td>\n",
       "      <td>out</td>\n",
       "      <td>False</td>\n",
       "      <td>947648.0</td>\n",
       "      <td>True</td>\n",
       "      <td>130</td>\n",
       "      <td>0</td>\n",
       "      <td>2341</td>\n",
       "    </tr>\n",
       "    <tr>\n",
       "      <th>6164</th>\n",
       "      <td>166541</td>\n",
       "      <td>2019-09-18 00:00:00+03:00</td>\n",
       "      <td>in</td>\n",
       "      <td>False</td>\n",
       "      <td>908958.0</td>\n",
       "      <td>False</td>\n",
       "      <td>21</td>\n",
       "      <td>2667</td>\n",
       "      <td>3284</td>\n",
       "    </tr>\n",
       "    <tr>\n",
       "      <th>52079</th>\n",
       "      <td>168361</td>\n",
       "      <td>2019-10-29 00:00:00+03:00</td>\n",
       "      <td>out</td>\n",
       "      <td>False</td>\n",
       "      <td>945286.0</td>\n",
       "      <td>False</td>\n",
       "      <td>112</td>\n",
       "      <td>6682</td>\n",
       "      <td>9123</td>\n",
       "    </tr>\n",
       "    <tr>\n",
       "      <th>19711</th>\n",
       "      <td>166985</td>\n",
       "      <td>2019-11-17 00:00:00+03:00</td>\n",
       "      <td>in</td>\n",
       "      <td>False</td>\n",
       "      <td>904284.0</td>\n",
       "      <td>False</td>\n",
       "      <td>1</td>\n",
       "      <td>84</td>\n",
       "      <td>103</td>\n",
       "    </tr>\n",
       "    <tr>\n",
       "      <th>6540</th>\n",
       "      <td>166548</td>\n",
       "      <td>2019-08-18 00:00:00+03:00</td>\n",
       "      <td>in</td>\n",
       "      <td>False</td>\n",
       "      <td>NaN</td>\n",
       "      <td>True</td>\n",
       "      <td>1</td>\n",
       "      <td>0</td>\n",
       "      <td>15</td>\n",
       "    </tr>\n",
       "    <tr>\n",
       "      <th>39324</th>\n",
       "      <td>167727</td>\n",
       "      <td>2019-10-19 00:00:00+03:00</td>\n",
       "      <td>out</td>\n",
       "      <td>False</td>\n",
       "      <td>926486.0</td>\n",
       "      <td>True</td>\n",
       "      <td>2</td>\n",
       "      <td>0</td>\n",
       "      <td>60</td>\n",
       "    </tr>\n",
       "    <tr>\n",
       "      <th>34729</th>\n",
       "      <td>167497</td>\n",
       "      <td>2019-11-27 00:00:00+03:00</td>\n",
       "      <td>out</td>\n",
       "      <td>False</td>\n",
       "      <td>932836.0</td>\n",
       "      <td>True</td>\n",
       "      <td>2</td>\n",
       "      <td>0</td>\n",
       "      <td>54</td>\n",
       "    </tr>\n",
       "    <tr>\n",
       "      <th>39570</th>\n",
       "      <td>167747</td>\n",
       "      <td>2019-11-08 00:00:00+03:00</td>\n",
       "      <td>out</td>\n",
       "      <td>False</td>\n",
       "      <td>922428.0</td>\n",
       "      <td>False</td>\n",
       "      <td>1</td>\n",
       "      <td>75</td>\n",
       "      <td>78</td>\n",
       "    </tr>\n",
       "    <tr>\n",
       "      <th>6730</th>\n",
       "      <td>166582</td>\n",
       "      <td>2019-08-31 00:00:00+03:00</td>\n",
       "      <td>out</td>\n",
       "      <td>False</td>\n",
       "      <td>885876.0</td>\n",
       "      <td>True</td>\n",
       "      <td>213</td>\n",
       "      <td>0</td>\n",
       "      <td>6807</td>\n",
       "    </tr>\n",
       "    <tr>\n",
       "      <th>47610</th>\n",
       "      <td>168187</td>\n",
       "      <td>2019-10-25 00:00:00+03:00</td>\n",
       "      <td>in</td>\n",
       "      <td>False</td>\n",
       "      <td>937966.0</td>\n",
       "      <td>False</td>\n",
       "      <td>14</td>\n",
       "      <td>1617</td>\n",
       "      <td>1729</td>\n",
       "    </tr>\n",
       "  </tbody>\n",
       "</table>\n",
       "</div>"
      ],
      "text/plain": [
       "       user_id                       date direction internal  operator_id  \\\n",
       "44800   168062  2019-11-11 00:00:00+03:00       out    False     947648.0   \n",
       "6164    166541  2019-09-18 00:00:00+03:00        in    False     908958.0   \n",
       "52079   168361  2019-10-29 00:00:00+03:00       out    False     945286.0   \n",
       "19711   166985  2019-11-17 00:00:00+03:00        in    False     904284.0   \n",
       "6540    166548  2019-08-18 00:00:00+03:00        in    False          NaN   \n",
       "39324   167727  2019-10-19 00:00:00+03:00       out    False     926486.0   \n",
       "34729   167497  2019-11-27 00:00:00+03:00       out    False     932836.0   \n",
       "39570   167747  2019-11-08 00:00:00+03:00       out    False     922428.0   \n",
       "6730    166582  2019-08-31 00:00:00+03:00       out    False     885876.0   \n",
       "47610   168187  2019-10-25 00:00:00+03:00        in    False     937966.0   \n",
       "\n",
       "       is_missed_call  calls_count  call_duration  total_call_duration  \n",
       "44800            True          130              0                 2341  \n",
       "6164            False           21           2667                 3284  \n",
       "52079           False          112           6682                 9123  \n",
       "19711           False            1             84                  103  \n",
       "6540             True            1              0                   15  \n",
       "39324            True            2              0                   60  \n",
       "34729            True            2              0                   54  \n",
       "39570           False            1             75                   78  \n",
       "6730             True          213              0                 6807  \n",
       "47610           False           14           1617                 1729  "
      ]
     },
     "execution_count": 7,
     "metadata": {},
     "output_type": "execute_result"
    }
   ],
   "source": [
    "telecom_data.sample(10)"
   ]
  },
  {
   "cell_type": "code",
   "execution_count": null,
   "metadata": {},
   "outputs": [
    {
     "data": {
      "text/html": [
       "<div>\n",
       "<style scoped>\n",
       "    .dataframe tbody tr th:only-of-type {\n",
       "        vertical-align: middle;\n",
       "    }\n",
       "\n",
       "    .dataframe tbody tr th {\n",
       "        vertical-align: top;\n",
       "    }\n",
       "\n",
       "    .dataframe thead th {\n",
       "        text-align: right;\n",
       "    }\n",
       "</style>\n",
       "<table border=\"1\" class=\"dataframe\">\n",
       "  <thead>\n",
       "    <tr style=\"text-align: right;\">\n",
       "      <th></th>\n",
       "      <th>user_id</th>\n",
       "      <th>tariff_plan</th>\n",
       "      <th>date_start</th>\n",
       "    </tr>\n",
       "  </thead>\n",
       "  <tbody>\n",
       "    <tr>\n",
       "      <th>185</th>\n",
       "      <td>168275</td>\n",
       "      <td>C</td>\n",
       "      <td>2019-10-18</td>\n",
       "    </tr>\n",
       "    <tr>\n",
       "      <th>267</th>\n",
       "      <td>167650</td>\n",
       "      <td>C</td>\n",
       "      <td>2019-09-24</td>\n",
       "    </tr>\n",
       "    <tr>\n",
       "      <th>722</th>\n",
       "      <td>166797</td>\n",
       "      <td>B</td>\n",
       "      <td>2019-08-20</td>\n",
       "    </tr>\n",
       "    <tr>\n",
       "      <th>684</th>\n",
       "      <td>167164</td>\n",
       "      <td>B</td>\n",
       "      <td>2019-09-04</td>\n",
       "    </tr>\n",
       "    <tr>\n",
       "      <th>561</th>\n",
       "      <td>168105</td>\n",
       "      <td>B</td>\n",
       "      <td>2019-10-14</td>\n",
       "    </tr>\n",
       "    <tr>\n",
       "      <th>227</th>\n",
       "      <td>167700</td>\n",
       "      <td>C</td>\n",
       "      <td>2019-09-26</td>\n",
       "    </tr>\n",
       "    <tr>\n",
       "      <th>228</th>\n",
       "      <td>167852</td>\n",
       "      <td>C</td>\n",
       "      <td>2019-10-02</td>\n",
       "    </tr>\n",
       "    <tr>\n",
       "      <th>148</th>\n",
       "      <td>168303</td>\n",
       "      <td>C</td>\n",
       "      <td>2019-10-21</td>\n",
       "    </tr>\n",
       "    <tr>\n",
       "      <th>415</th>\n",
       "      <td>167042</td>\n",
       "      <td>C</td>\n",
       "      <td>2019-08-29</td>\n",
       "    </tr>\n",
       "    <tr>\n",
       "      <th>140</th>\n",
       "      <td>168522</td>\n",
       "      <td>C</td>\n",
       "      <td>2019-10-29</td>\n",
       "    </tr>\n",
       "  </tbody>\n",
       "</table>\n",
       "</div>"
      ],
      "text/plain": [
       "     user_id tariff_plan  date_start\n",
       "185   168275           C  2019-10-18\n",
       "267   167650           C  2019-09-24\n",
       "722   166797           B  2019-08-20\n",
       "684   167164           B  2019-09-04\n",
       "561   168105           B  2019-10-14\n",
       "227   167700           C  2019-09-26\n",
       "228   167852           C  2019-10-02\n",
       "148   168303           C  2019-10-21\n",
       "415   167042           C  2019-08-29\n",
       "140   168522           C  2019-10-29"
      ]
     },
     "execution_count": 8,
     "metadata": {},
     "output_type": "execute_result"
    }
   ],
   "source": [
    "telecom_clients.sample(10)"
   ]
  },
  {
   "cell_type": "markdown",
   "metadata": {},
   "source": [
    "Importamos las librerias necesarias para el desarrollo del proyecto. De igual manera importamos los Datasets con los datos e información general mediante el método info() para visualizar la estructura y análisis general del dataset.Se utiliza el método Sample()para complementar el análisis exploratorio de nuestros datos."
   ]
  },
  {
   "cell_type": "markdown",
   "metadata": {},
   "source": [
    "##  Preparar los datos para el análisis"
   ]
  },
  {
   "cell_type": "markdown",
   "metadata": {},
   "source": [
    "Asignamos a un nuevo DataFrame, sin valores ausentes para no modificar el DataFrame inicial. "
   ]
  },
  {
   "cell_type": "code",
   "execution_count": null,
   "metadata": {},
   "outputs": [
    {
     "name": "stdout",
     "output_type": "stream",
     "text": [
      "<class 'pandas.core.frame.DataFrame'>\n",
      "Int64Index: 45670 entries, 1 to 53900\n",
      "Data columns (total 9 columns):\n",
      " #   Column               Non-Null Count  Dtype \n",
      "---  ------               --------------  ----- \n",
      " 0   user_id              45670 non-null  int64 \n",
      " 1   date                 45670 non-null  object\n",
      " 2   direction            45670 non-null  object\n",
      " 3   internal             45670 non-null  object\n",
      " 4   operator_id          45670 non-null  int64 \n",
      " 5   is_missed_call       45670 non-null  bool  \n",
      " 6   calls_count          45670 non-null  int64 \n",
      " 7   call_duration        45670 non-null  int64 \n",
      " 8   total_call_duration  45670 non-null  int64 \n",
      "dtypes: bool(1), int64(5), object(3)\n",
      "memory usage: 3.2+ MB\n"
     ]
    }
   ],
   "source": [
    "telecom_data = telecom_data.dropna()\n",
    "telecom_data['operator_id'] = telecom_data['operator_id'].astype(int)\n",
    "telecom_data.info()"
   ]
  },
  {
   "cell_type": "markdown",
   "metadata": {},
   "source": [
    "Se eliminaron los valores ausentes que existian en la columna 'operador_id'.  Y se cambio el tipo de dato ya que  los valores decimales no aportan información significativa o no son relevantes para el análisis."
   ]
  },
  {
   "cell_type": "code",
   "execution_count": null,
   "metadata": {},
   "outputs": [
    {
     "data": {
      "text/html": [
       "<div>\n",
       "<style scoped>\n",
       "    .dataframe tbody tr th:only-of-type {\n",
       "        vertical-align: middle;\n",
       "    }\n",
       "\n",
       "    .dataframe tbody tr th {\n",
       "        vertical-align: top;\n",
       "    }\n",
       "\n",
       "    .dataframe thead th {\n",
       "        text-align: right;\n",
       "    }\n",
       "</style>\n",
       "<table border=\"1\" class=\"dataframe\">\n",
       "  <thead>\n",
       "    <tr style=\"text-align: right;\">\n",
       "      <th></th>\n",
       "      <th>user_id</th>\n",
       "      <th>date</th>\n",
       "      <th>direction</th>\n",
       "      <th>internal</th>\n",
       "      <th>operator_id</th>\n",
       "      <th>is_missed_call</th>\n",
       "      <th>calls_count</th>\n",
       "      <th>call_duration</th>\n",
       "      <th>total_call_duration</th>\n",
       "    </tr>\n",
       "  </thead>\n",
       "  <tbody>\n",
       "    <tr>\n",
       "      <th>37716</th>\n",
       "      <td>167634</td>\n",
       "      <td>2019-10-10 00:00:00+03:00</td>\n",
       "      <td>in</td>\n",
       "      <td>False</td>\n",
       "      <td>918436</td>\n",
       "      <td>False</td>\n",
       "      <td>1</td>\n",
       "      <td>109</td>\n",
       "      <td>119</td>\n",
       "    </tr>\n",
       "    <tr>\n",
       "      <th>8477</th>\n",
       "      <td>166658</td>\n",
       "      <td>2019-09-16 00:00:00+03:00</td>\n",
       "      <td>in</td>\n",
       "      <td>False</td>\n",
       "      <td>890402</td>\n",
       "      <td>False</td>\n",
       "      <td>5</td>\n",
       "      <td>733</td>\n",
       "      <td>837</td>\n",
       "    </tr>\n",
       "    <tr>\n",
       "      <th>26029</th>\n",
       "      <td>167150</td>\n",
       "      <td>2019-10-04 00:00:00+03:00</td>\n",
       "      <td>out</td>\n",
       "      <td>True</td>\n",
       "      <td>905566</td>\n",
       "      <td>False</td>\n",
       "      <td>6</td>\n",
       "      <td>119</td>\n",
       "      <td>154</td>\n",
       "    </tr>\n",
       "    <tr>\n",
       "      <th>34899</th>\n",
       "      <td>167521</td>\n",
       "      <td>2019-10-17 00:00:00+03:00</td>\n",
       "      <td>in</td>\n",
       "      <td>False</td>\n",
       "      <td>919790</td>\n",
       "      <td>False</td>\n",
       "      <td>5</td>\n",
       "      <td>329</td>\n",
       "      <td>551</td>\n",
       "    </tr>\n",
       "    <tr>\n",
       "      <th>16293</th>\n",
       "      <td>166916</td>\n",
       "      <td>2019-10-07 00:00:00+03:00</td>\n",
       "      <td>in</td>\n",
       "      <td>False</td>\n",
       "      <td>906404</td>\n",
       "      <td>False</td>\n",
       "      <td>16</td>\n",
       "      <td>3765</td>\n",
       "      <td>4140</td>\n",
       "    </tr>\n",
       "  </tbody>\n",
       "</table>\n",
       "</div>"
      ],
      "text/plain": [
       "       user_id                       date direction internal  operator_id  \\\n",
       "37716   167634  2019-10-10 00:00:00+03:00        in    False       918436   \n",
       "8477    166658  2019-09-16 00:00:00+03:00        in    False       890402   \n",
       "26029   167150  2019-10-04 00:00:00+03:00       out     True       905566   \n",
       "34899   167521  2019-10-17 00:00:00+03:00        in    False       919790   \n",
       "16293   166916  2019-10-07 00:00:00+03:00        in    False       906404   \n",
       "\n",
       "       is_missed_call  calls_count  call_duration  total_call_duration  \n",
       "37716           False            1            109                  119  \n",
       "8477            False            5            733                  837  \n",
       "26029           False            6            119                  154  \n",
       "34899           False            5            329                  551  \n",
       "16293           False           16           3765                 4140  "
      ]
     },
     "execution_count": 10,
     "metadata": {},
     "output_type": "execute_result"
    }
   ],
   "source": [
    "telecom_data.sample(5)"
   ]
  },
  {
   "cell_type": "code",
   "execution_count": null,
   "metadata": {},
   "outputs": [
    {
     "data": {
      "text/html": [
       "<div>\n",
       "<style scoped>\n",
       "    .dataframe tbody tr th:only-of-type {\n",
       "        vertical-align: middle;\n",
       "    }\n",
       "\n",
       "    .dataframe tbody tr th {\n",
       "        vertical-align: top;\n",
       "    }\n",
       "\n",
       "    .dataframe thead th {\n",
       "        text-align: right;\n",
       "    }\n",
       "</style>\n",
       "<table border=\"1\" class=\"dataframe\">\n",
       "  <thead>\n",
       "    <tr style=\"text-align: right;\">\n",
       "      <th></th>\n",
       "      <th>user_id</th>\n",
       "      <th>date</th>\n",
       "      <th>direction</th>\n",
       "      <th>internal</th>\n",
       "      <th>operator_id</th>\n",
       "      <th>is_missed_call</th>\n",
       "      <th>calls_count</th>\n",
       "      <th>call_duration</th>\n",
       "      <th>total_call_duration</th>\n",
       "    </tr>\n",
       "  </thead>\n",
       "  <tbody>\n",
       "    <tr>\n",
       "      <th>1</th>\n",
       "      <td>166377</td>\n",
       "      <td>2019-08-05 00:00:00+03:00</td>\n",
       "      <td>out</td>\n",
       "      <td>True</td>\n",
       "      <td>880022</td>\n",
       "      <td>True</td>\n",
       "      <td>3</td>\n",
       "      <td>0</td>\n",
       "      <td>5</td>\n",
       "    </tr>\n",
       "    <tr>\n",
       "      <th>2</th>\n",
       "      <td>166377</td>\n",
       "      <td>2019-08-05 00:00:00+03:00</td>\n",
       "      <td>out</td>\n",
       "      <td>True</td>\n",
       "      <td>880020</td>\n",
       "      <td>True</td>\n",
       "      <td>1</td>\n",
       "      <td>0</td>\n",
       "      <td>1</td>\n",
       "    </tr>\n",
       "    <tr>\n",
       "      <th>3</th>\n",
       "      <td>166377</td>\n",
       "      <td>2019-08-05 00:00:00+03:00</td>\n",
       "      <td>out</td>\n",
       "      <td>True</td>\n",
       "      <td>880020</td>\n",
       "      <td>False</td>\n",
       "      <td>1</td>\n",
       "      <td>10</td>\n",
       "      <td>18</td>\n",
       "    </tr>\n",
       "    <tr>\n",
       "      <th>4</th>\n",
       "      <td>166377</td>\n",
       "      <td>2019-08-05 00:00:00+03:00</td>\n",
       "      <td>out</td>\n",
       "      <td>False</td>\n",
       "      <td>880022</td>\n",
       "      <td>True</td>\n",
       "      <td>3</td>\n",
       "      <td>0</td>\n",
       "      <td>25</td>\n",
       "    </tr>\n",
       "    <tr>\n",
       "      <th>5</th>\n",
       "      <td>166377</td>\n",
       "      <td>2019-08-05 00:00:00+03:00</td>\n",
       "      <td>out</td>\n",
       "      <td>False</td>\n",
       "      <td>880020</td>\n",
       "      <td>False</td>\n",
       "      <td>2</td>\n",
       "      <td>3</td>\n",
       "      <td>29</td>\n",
       "    </tr>\n",
       "    <tr>\n",
       "      <th>...</th>\n",
       "      <td>...</td>\n",
       "      <td>...</td>\n",
       "      <td>...</td>\n",
       "      <td>...</td>\n",
       "      <td>...</td>\n",
       "      <td>...</td>\n",
       "      <td>...</td>\n",
       "      <td>...</td>\n",
       "      <td>...</td>\n",
       "    </tr>\n",
       "    <tr>\n",
       "      <th>53895</th>\n",
       "      <td>168606</td>\n",
       "      <td>2019-11-09 00:00:00+03:00</td>\n",
       "      <td>out</td>\n",
       "      <td>False</td>\n",
       "      <td>957922</td>\n",
       "      <td>False</td>\n",
       "      <td>4</td>\n",
       "      <td>551</td>\n",
       "      <td>593</td>\n",
       "    </tr>\n",
       "    <tr>\n",
       "      <th>53896</th>\n",
       "      <td>168606</td>\n",
       "      <td>2019-11-10 00:00:00+03:00</td>\n",
       "      <td>out</td>\n",
       "      <td>True</td>\n",
       "      <td>957922</td>\n",
       "      <td>False</td>\n",
       "      <td>1</td>\n",
       "      <td>0</td>\n",
       "      <td>25</td>\n",
       "    </tr>\n",
       "    <tr>\n",
       "      <th>53897</th>\n",
       "      <td>168606</td>\n",
       "      <td>2019-11-10 00:00:00+03:00</td>\n",
       "      <td>out</td>\n",
       "      <td>True</td>\n",
       "      <td>957922</td>\n",
       "      <td>True</td>\n",
       "      <td>1</td>\n",
       "      <td>0</td>\n",
       "      <td>38</td>\n",
       "    </tr>\n",
       "    <tr>\n",
       "      <th>53898</th>\n",
       "      <td>168606</td>\n",
       "      <td>2019-11-11 00:00:00+03:00</td>\n",
       "      <td>out</td>\n",
       "      <td>True</td>\n",
       "      <td>957922</td>\n",
       "      <td>False</td>\n",
       "      <td>2</td>\n",
       "      <td>479</td>\n",
       "      <td>501</td>\n",
       "    </tr>\n",
       "    <tr>\n",
       "      <th>53899</th>\n",
       "      <td>168606</td>\n",
       "      <td>2019-11-15 00:00:00+03:00</td>\n",
       "      <td>out</td>\n",
       "      <td>True</td>\n",
       "      <td>957922</td>\n",
       "      <td>False</td>\n",
       "      <td>4</td>\n",
       "      <td>3130</td>\n",
       "      <td>3190</td>\n",
       "    </tr>\n",
       "  </tbody>\n",
       "</table>\n",
       "<p>41491 rows × 9 columns</p>\n",
       "</div>"
      ],
      "text/plain": [
       "       user_id                       date direction internal  operator_id  \\\n",
       "1       166377  2019-08-05 00:00:00+03:00       out     True       880022   \n",
       "2       166377  2019-08-05 00:00:00+03:00       out     True       880020   \n",
       "3       166377  2019-08-05 00:00:00+03:00       out     True       880020   \n",
       "4       166377  2019-08-05 00:00:00+03:00       out    False       880022   \n",
       "5       166377  2019-08-05 00:00:00+03:00       out    False       880020   \n",
       "...        ...                        ...       ...      ...          ...   \n",
       "53895   168606  2019-11-09 00:00:00+03:00       out    False       957922   \n",
       "53896   168606  2019-11-10 00:00:00+03:00       out     True       957922   \n",
       "53897   168606  2019-11-10 00:00:00+03:00       out     True       957922   \n",
       "53898   168606  2019-11-11 00:00:00+03:00       out     True       957922   \n",
       "53899   168606  2019-11-15 00:00:00+03:00       out     True       957922   \n",
       "\n",
       "       is_missed_call  calls_count  call_duration  total_call_duration  \n",
       "1                True            3              0                    5  \n",
       "2                True            1              0                    1  \n",
       "3               False            1             10                   18  \n",
       "4                True            3              0                   25  \n",
       "5               False            2              3                   29  \n",
       "...               ...          ...            ...                  ...  \n",
       "53895           False            4            551                  593  \n",
       "53896           False            1              0                   25  \n",
       "53897            True            1              0                   38  \n",
       "53898           False            2            479                  501  \n",
       "53899           False            4           3130                 3190  \n",
       "\n",
       "[41491 rows x 9 columns]"
      ]
     },
     "execution_count": 11,
     "metadata": {},
     "output_type": "execute_result"
    }
   ],
   "source": [
    "telecom_data = telecom_data.drop_duplicates()\n",
    "telecom_data"
   ]
  },
  {
   "cell_type": "markdown",
   "metadata": {},
   "source": [
    "Para garantizar la calidad de los datos y evitar afectación en la integridad de los datos;  y confiabilidad  del análisis, se eliminarón los datos duplicados. \n",
    "Para evitar cálculos erróneos (media, suma, o conteos) una vez eliminados aseguramos que los datos sean precisos, eficientes y útiles para el análisis. "
   ]
  },
  {
   "cell_type": "markdown",
   "metadata": {},
   "source": [
    "## Identificar operadores ineficaces\n",
    "\n",
    "Determinar qué operadores tienen un desempeño deficiente.\n",
    " \n",
    "Determinar las métricas que se usarán para identificar ineficiencia:\n",
    "\n",
    "Llamadas perdidas: Porcentaje de llamadas perdidas (internas y externas).\n",
    "\n",
    "Tiempo de espera: Tiempo promedio de espera para llamadas entrantes.\n",
    "\n",
    "Volumen de llamadas salientes: Número de llamadas salientes realizadas en comparación con el objetivo esperado."
   ]
  },
  {
   "cell_type": "code",
   "execution_count": null,
   "metadata": {},
   "outputs": [
    {
     "data": {
      "text/html": [
       "<div>\n",
       "<style scoped>\n",
       "    .dataframe tbody tr th:only-of-type {\n",
       "        vertical-align: middle;\n",
       "    }\n",
       "\n",
       "    .dataframe tbody tr th {\n",
       "        vertical-align: top;\n",
       "    }\n",
       "\n",
       "    .dataframe thead th {\n",
       "        text-align: right;\n",
       "    }\n",
       "</style>\n",
       "<table border=\"1\" class=\"dataframe\">\n",
       "  <thead>\n",
       "    <tr style=\"text-align: right;\">\n",
       "      <th></th>\n",
       "      <th>user_id</th>\n",
       "      <th>operator_id</th>\n",
       "      <th>calls_count</th>\n",
       "      <th>call_duration</th>\n",
       "      <th>total_call_duration</th>\n",
       "    </tr>\n",
       "  </thead>\n",
       "  <tbody>\n",
       "    <tr>\n",
       "      <th>count</th>\n",
       "      <td>41491.000000</td>\n",
       "      <td>41491.000000</td>\n",
       "      <td>41491.000000</td>\n",
       "      <td>41491.000000</td>\n",
       "      <td>41491.000000</td>\n",
       "    </tr>\n",
       "    <tr>\n",
       "      <th>mean</th>\n",
       "      <td>167301.113543</td>\n",
       "      <td>916516.771155</td>\n",
       "      <td>16.921381</td>\n",
       "      <td>1010.940011</td>\n",
       "      <td>1323.153238</td>\n",
       "    </tr>\n",
       "    <tr>\n",
       "      <th>std</th>\n",
       "      <td>600.513986</td>\n",
       "      <td>21234.081589</td>\n",
       "      <td>59.786187</td>\n",
       "      <td>4066.666485</td>\n",
       "      <td>4788.953155</td>\n",
       "    </tr>\n",
       "    <tr>\n",
       "      <th>min</th>\n",
       "      <td>166377.000000</td>\n",
       "      <td>879896.000000</td>\n",
       "      <td>1.000000</td>\n",
       "      <td>0.000000</td>\n",
       "      <td>0.000000</td>\n",
       "    </tr>\n",
       "    <tr>\n",
       "      <th>25%</th>\n",
       "      <td>166782.000000</td>\n",
       "      <td>900790.000000</td>\n",
       "      <td>1.000000</td>\n",
       "      <td>0.000000</td>\n",
       "      <td>67.000000</td>\n",
       "    </tr>\n",
       "    <tr>\n",
       "      <th>50%</th>\n",
       "      <td>167175.000000</td>\n",
       "      <td>913938.000000</td>\n",
       "      <td>4.000000</td>\n",
       "      <td>106.000000</td>\n",
       "      <td>289.000000</td>\n",
       "    </tr>\n",
       "    <tr>\n",
       "      <th>75%</th>\n",
       "      <td>167827.000000</td>\n",
       "      <td>937708.000000</td>\n",
       "      <td>14.000000</td>\n",
       "      <td>772.000000</td>\n",
       "      <td>1107.000000</td>\n",
       "    </tr>\n",
       "    <tr>\n",
       "      <th>max</th>\n",
       "      <td>168606.000000</td>\n",
       "      <td>973286.000000</td>\n",
       "      <td>4817.000000</td>\n",
       "      <td>144395.000000</td>\n",
       "      <td>166155.000000</td>\n",
       "    </tr>\n",
       "  </tbody>\n",
       "</table>\n",
       "</div>"
      ],
      "text/plain": [
       "             user_id    operator_id   calls_count  call_duration  \\\n",
       "count   41491.000000   41491.000000  41491.000000   41491.000000   \n",
       "mean   167301.113543  916516.771155     16.921381    1010.940011   \n",
       "std       600.513986   21234.081589     59.786187    4066.666485   \n",
       "min    166377.000000  879896.000000      1.000000       0.000000   \n",
       "25%    166782.000000  900790.000000      1.000000       0.000000   \n",
       "50%    167175.000000  913938.000000      4.000000     106.000000   \n",
       "75%    167827.000000  937708.000000     14.000000     772.000000   \n",
       "max    168606.000000  973286.000000   4817.000000  144395.000000   \n",
       "\n",
       "       total_call_duration  \n",
       "count         41491.000000  \n",
       "mean           1323.153238  \n",
       "std            4788.953155  \n",
       "min               0.000000  \n",
       "25%              67.000000  \n",
       "50%             289.000000  \n",
       "75%            1107.000000  \n",
       "max          166155.000000  "
      ]
     },
     "execution_count": 12,
     "metadata": {},
     "output_type": "execute_result"
    }
   ],
   "source": [
    "telecom_data.describe()"
   ]
  },
  {
   "cell_type": "code",
   "execution_count": null,
   "metadata": {},
   "outputs": [
    {
     "data": {
      "text/plain": [
       "direction\n",
       "in     33.559942\n",
       "out     0.053706\n",
       "Name: call_duration, dtype: float64"
      ]
     },
     "execution_count": 13,
     "metadata": {},
     "output_type": "execute_result"
    }
   ],
   "source": [
    "df_call_duration = telecom_data[telecom_data['is_missed_call'] == True]\n",
    "\n",
    "df_call_duration = df_call_duration.groupby('direction')['call_duration'].mean()\n",
    "df_call_duration"
   ]
  },
  {
   "cell_type": "markdown",
   "metadata": {},
   "source": [
    "** DESCRIPCION \n",
    "\n",
    "El promedio de llamadas perdidas de entrada es de 33% comparado con el prmedio de llamadas de salida. \n",
    "\n",
    "Entonces podemos deducir que la mayoria de llamdas perdidas son llamandas de entrada. "
   ]
  },
  {
   "cell_type": "code",
   "execution_count": null,
   "metadata": {},
   "outputs": [
    {
     "data": {
      "text/html": [
       "<div>\n",
       "<style scoped>\n",
       "    .dataframe tbody tr th:only-of-type {\n",
       "        vertical-align: middle;\n",
       "    }\n",
       "\n",
       "    .dataframe tbody tr th {\n",
       "        vertical-align: top;\n",
       "    }\n",
       "\n",
       "    .dataframe thead th {\n",
       "        text-align: right;\n",
       "    }\n",
       "</style>\n",
       "<table border=\"1\" class=\"dataframe\">\n",
       "  <thead>\n",
       "    <tr style=\"text-align: right;\">\n",
       "      <th></th>\n",
       "      <th>user_id</th>\n",
       "      <th>date</th>\n",
       "      <th>direction</th>\n",
       "      <th>internal</th>\n",
       "      <th>operator_id</th>\n",
       "      <th>is_missed_call</th>\n",
       "      <th>calls_count</th>\n",
       "      <th>call_duration</th>\n",
       "      <th>total_call_duration</th>\n",
       "      <th>wait_time</th>\n",
       "    </tr>\n",
       "  </thead>\n",
       "  <tbody>\n",
       "    <tr>\n",
       "      <th>1</th>\n",
       "      <td>166377</td>\n",
       "      <td>2019-08-05 00:00:00+03:00</td>\n",
       "      <td>out</td>\n",
       "      <td>True</td>\n",
       "      <td>880022</td>\n",
       "      <td>True</td>\n",
       "      <td>3</td>\n",
       "      <td>0</td>\n",
       "      <td>5</td>\n",
       "      <td>5</td>\n",
       "    </tr>\n",
       "    <tr>\n",
       "      <th>2</th>\n",
       "      <td>166377</td>\n",
       "      <td>2019-08-05 00:00:00+03:00</td>\n",
       "      <td>out</td>\n",
       "      <td>True</td>\n",
       "      <td>880020</td>\n",
       "      <td>True</td>\n",
       "      <td>1</td>\n",
       "      <td>0</td>\n",
       "      <td>1</td>\n",
       "      <td>1</td>\n",
       "    </tr>\n",
       "    <tr>\n",
       "      <th>3</th>\n",
       "      <td>166377</td>\n",
       "      <td>2019-08-05 00:00:00+03:00</td>\n",
       "      <td>out</td>\n",
       "      <td>True</td>\n",
       "      <td>880020</td>\n",
       "      <td>False</td>\n",
       "      <td>1</td>\n",
       "      <td>10</td>\n",
       "      <td>18</td>\n",
       "      <td>8</td>\n",
       "    </tr>\n",
       "    <tr>\n",
       "      <th>4</th>\n",
       "      <td>166377</td>\n",
       "      <td>2019-08-05 00:00:00+03:00</td>\n",
       "      <td>out</td>\n",
       "      <td>False</td>\n",
       "      <td>880022</td>\n",
       "      <td>True</td>\n",
       "      <td>3</td>\n",
       "      <td>0</td>\n",
       "      <td>25</td>\n",
       "      <td>25</td>\n",
       "    </tr>\n",
       "    <tr>\n",
       "      <th>5</th>\n",
       "      <td>166377</td>\n",
       "      <td>2019-08-05 00:00:00+03:00</td>\n",
       "      <td>out</td>\n",
       "      <td>False</td>\n",
       "      <td>880020</td>\n",
       "      <td>False</td>\n",
       "      <td>2</td>\n",
       "      <td>3</td>\n",
       "      <td>29</td>\n",
       "      <td>26</td>\n",
       "    </tr>\n",
       "    <tr>\n",
       "      <th>...</th>\n",
       "      <td>...</td>\n",
       "      <td>...</td>\n",
       "      <td>...</td>\n",
       "      <td>...</td>\n",
       "      <td>...</td>\n",
       "      <td>...</td>\n",
       "      <td>...</td>\n",
       "      <td>...</td>\n",
       "      <td>...</td>\n",
       "      <td>...</td>\n",
       "    </tr>\n",
       "    <tr>\n",
       "      <th>53895</th>\n",
       "      <td>168606</td>\n",
       "      <td>2019-11-09 00:00:00+03:00</td>\n",
       "      <td>out</td>\n",
       "      <td>False</td>\n",
       "      <td>957922</td>\n",
       "      <td>False</td>\n",
       "      <td>4</td>\n",
       "      <td>551</td>\n",
       "      <td>593</td>\n",
       "      <td>42</td>\n",
       "    </tr>\n",
       "    <tr>\n",
       "      <th>53896</th>\n",
       "      <td>168606</td>\n",
       "      <td>2019-11-10 00:00:00+03:00</td>\n",
       "      <td>out</td>\n",
       "      <td>True</td>\n",
       "      <td>957922</td>\n",
       "      <td>False</td>\n",
       "      <td>1</td>\n",
       "      <td>0</td>\n",
       "      <td>25</td>\n",
       "      <td>25</td>\n",
       "    </tr>\n",
       "    <tr>\n",
       "      <th>53897</th>\n",
       "      <td>168606</td>\n",
       "      <td>2019-11-10 00:00:00+03:00</td>\n",
       "      <td>out</td>\n",
       "      <td>True</td>\n",
       "      <td>957922</td>\n",
       "      <td>True</td>\n",
       "      <td>1</td>\n",
       "      <td>0</td>\n",
       "      <td>38</td>\n",
       "      <td>38</td>\n",
       "    </tr>\n",
       "    <tr>\n",
       "      <th>53898</th>\n",
       "      <td>168606</td>\n",
       "      <td>2019-11-11 00:00:00+03:00</td>\n",
       "      <td>out</td>\n",
       "      <td>True</td>\n",
       "      <td>957922</td>\n",
       "      <td>False</td>\n",
       "      <td>2</td>\n",
       "      <td>479</td>\n",
       "      <td>501</td>\n",
       "      <td>22</td>\n",
       "    </tr>\n",
       "    <tr>\n",
       "      <th>53899</th>\n",
       "      <td>168606</td>\n",
       "      <td>2019-11-15 00:00:00+03:00</td>\n",
       "      <td>out</td>\n",
       "      <td>True</td>\n",
       "      <td>957922</td>\n",
       "      <td>False</td>\n",
       "      <td>4</td>\n",
       "      <td>3130</td>\n",
       "      <td>3190</td>\n",
       "      <td>60</td>\n",
       "    </tr>\n",
       "  </tbody>\n",
       "</table>\n",
       "<p>41491 rows × 10 columns</p>\n",
       "</div>"
      ],
      "text/plain": [
       "       user_id                       date direction internal  operator_id  \\\n",
       "1       166377  2019-08-05 00:00:00+03:00       out     True       880022   \n",
       "2       166377  2019-08-05 00:00:00+03:00       out     True       880020   \n",
       "3       166377  2019-08-05 00:00:00+03:00       out     True       880020   \n",
       "4       166377  2019-08-05 00:00:00+03:00       out    False       880022   \n",
       "5       166377  2019-08-05 00:00:00+03:00       out    False       880020   \n",
       "...        ...                        ...       ...      ...          ...   \n",
       "53895   168606  2019-11-09 00:00:00+03:00       out    False       957922   \n",
       "53896   168606  2019-11-10 00:00:00+03:00       out     True       957922   \n",
       "53897   168606  2019-11-10 00:00:00+03:00       out     True       957922   \n",
       "53898   168606  2019-11-11 00:00:00+03:00       out     True       957922   \n",
       "53899   168606  2019-11-15 00:00:00+03:00       out     True       957922   \n",
       "\n",
       "       is_missed_call  calls_count  call_duration  total_call_duration  \\\n",
       "1                True            3              0                    5   \n",
       "2                True            1              0                    1   \n",
       "3               False            1             10                   18   \n",
       "4                True            3              0                   25   \n",
       "5               False            2              3                   29   \n",
       "...               ...          ...            ...                  ...   \n",
       "53895           False            4            551                  593   \n",
       "53896           False            1              0                   25   \n",
       "53897            True            1              0                   38   \n",
       "53898           False            2            479                  501   \n",
       "53899           False            4           3130                 3190   \n",
       "\n",
       "       wait_time  \n",
       "1              5  \n",
       "2              1  \n",
       "3              8  \n",
       "4             25  \n",
       "5             26  \n",
       "...          ...  \n",
       "53895         42  \n",
       "53896         25  \n",
       "53897         38  \n",
       "53898         22  \n",
       "53899         60  \n",
       "\n",
       "[41491 rows x 10 columns]"
      ]
     },
     "execution_count": 14,
     "metadata": {},
     "output_type": "execute_result"
    }
   ],
   "source": [
    "telecom_data['wait_time'] = telecom_data['total_call_duration'] - telecom_data['call_duration'] \n",
    "\n",
    "telecom_data"
   ]
  },
  {
   "cell_type": "code",
   "execution_count": null,
   "metadata": {},
   "outputs": [
    {
     "data": {
      "text/html": [
       "<div>\n",
       "<style scoped>\n",
       "    .dataframe tbody tr th:only-of-type {\n",
       "        vertical-align: middle;\n",
       "    }\n",
       "\n",
       "    .dataframe tbody tr th {\n",
       "        vertical-align: top;\n",
       "    }\n",
       "\n",
       "    .dataframe thead th {\n",
       "        text-align: right;\n",
       "    }\n",
       "</style>\n",
       "<table border=\"1\" class=\"dataframe\">\n",
       "  <thead>\n",
       "    <tr style=\"text-align: right;\">\n",
       "      <th></th>\n",
       "      <th>user_id</th>\n",
       "      <th>date</th>\n",
       "      <th>direction</th>\n",
       "      <th>internal</th>\n",
       "      <th>operator_id</th>\n",
       "      <th>is_missed_call</th>\n",
       "      <th>calls_count</th>\n",
       "      <th>call_duration</th>\n",
       "      <th>total_call_duration</th>\n",
       "      <th>wait_time</th>\n",
       "    </tr>\n",
       "  </thead>\n",
       "  <tbody>\n",
       "    <tr>\n",
       "      <th>1</th>\n",
       "      <td>166377</td>\n",
       "      <td>2019-08-05 00:00:00+03:00</td>\n",
       "      <td>out</td>\n",
       "      <td>True</td>\n",
       "      <td>880022</td>\n",
       "      <td>True</td>\n",
       "      <td>3</td>\n",
       "      <td>0</td>\n",
       "      <td>5</td>\n",
       "      <td>5</td>\n",
       "    </tr>\n",
       "    <tr>\n",
       "      <th>2</th>\n",
       "      <td>166377</td>\n",
       "      <td>2019-08-05 00:00:00+03:00</td>\n",
       "      <td>out</td>\n",
       "      <td>True</td>\n",
       "      <td>880020</td>\n",
       "      <td>True</td>\n",
       "      <td>1</td>\n",
       "      <td>0</td>\n",
       "      <td>1</td>\n",
       "      <td>1</td>\n",
       "    </tr>\n",
       "    <tr>\n",
       "      <th>3</th>\n",
       "      <td>166377</td>\n",
       "      <td>2019-08-05 00:00:00+03:00</td>\n",
       "      <td>out</td>\n",
       "      <td>True</td>\n",
       "      <td>880020</td>\n",
       "      <td>False</td>\n",
       "      <td>1</td>\n",
       "      <td>10</td>\n",
       "      <td>18</td>\n",
       "      <td>8</td>\n",
       "    </tr>\n",
       "    <tr>\n",
       "      <th>4</th>\n",
       "      <td>166377</td>\n",
       "      <td>2019-08-05 00:00:00+03:00</td>\n",
       "      <td>out</td>\n",
       "      <td>False</td>\n",
       "      <td>880022</td>\n",
       "      <td>True</td>\n",
       "      <td>3</td>\n",
       "      <td>0</td>\n",
       "      <td>25</td>\n",
       "      <td>25</td>\n",
       "    </tr>\n",
       "    <tr>\n",
       "      <th>5</th>\n",
       "      <td>166377</td>\n",
       "      <td>2019-08-05 00:00:00+03:00</td>\n",
       "      <td>out</td>\n",
       "      <td>False</td>\n",
       "      <td>880020</td>\n",
       "      <td>False</td>\n",
       "      <td>2</td>\n",
       "      <td>3</td>\n",
       "      <td>29</td>\n",
       "      <td>26</td>\n",
       "    </tr>\n",
       "    <tr>\n",
       "      <th>...</th>\n",
       "      <td>...</td>\n",
       "      <td>...</td>\n",
       "      <td>...</td>\n",
       "      <td>...</td>\n",
       "      <td>...</td>\n",
       "      <td>...</td>\n",
       "      <td>...</td>\n",
       "      <td>...</td>\n",
       "      <td>...</td>\n",
       "      <td>...</td>\n",
       "    </tr>\n",
       "    <tr>\n",
       "      <th>53895</th>\n",
       "      <td>168606</td>\n",
       "      <td>2019-11-09 00:00:00+03:00</td>\n",
       "      <td>out</td>\n",
       "      <td>False</td>\n",
       "      <td>957922</td>\n",
       "      <td>False</td>\n",
       "      <td>4</td>\n",
       "      <td>551</td>\n",
       "      <td>593</td>\n",
       "      <td>42</td>\n",
       "    </tr>\n",
       "    <tr>\n",
       "      <th>53896</th>\n",
       "      <td>168606</td>\n",
       "      <td>2019-11-10 00:00:00+03:00</td>\n",
       "      <td>out</td>\n",
       "      <td>True</td>\n",
       "      <td>957922</td>\n",
       "      <td>False</td>\n",
       "      <td>1</td>\n",
       "      <td>0</td>\n",
       "      <td>25</td>\n",
       "      <td>25</td>\n",
       "    </tr>\n",
       "    <tr>\n",
       "      <th>53897</th>\n",
       "      <td>168606</td>\n",
       "      <td>2019-11-10 00:00:00+03:00</td>\n",
       "      <td>out</td>\n",
       "      <td>True</td>\n",
       "      <td>957922</td>\n",
       "      <td>True</td>\n",
       "      <td>1</td>\n",
       "      <td>0</td>\n",
       "      <td>38</td>\n",
       "      <td>38</td>\n",
       "    </tr>\n",
       "    <tr>\n",
       "      <th>53898</th>\n",
       "      <td>168606</td>\n",
       "      <td>2019-11-11 00:00:00+03:00</td>\n",
       "      <td>out</td>\n",
       "      <td>True</td>\n",
       "      <td>957922</td>\n",
       "      <td>False</td>\n",
       "      <td>2</td>\n",
       "      <td>479</td>\n",
       "      <td>501</td>\n",
       "      <td>22</td>\n",
       "    </tr>\n",
       "    <tr>\n",
       "      <th>53899</th>\n",
       "      <td>168606</td>\n",
       "      <td>2019-11-15 00:00:00+03:00</td>\n",
       "      <td>out</td>\n",
       "      <td>True</td>\n",
       "      <td>957922</td>\n",
       "      <td>False</td>\n",
       "      <td>4</td>\n",
       "      <td>3130</td>\n",
       "      <td>3190</td>\n",
       "      <td>60</td>\n",
       "    </tr>\n",
       "  </tbody>\n",
       "</table>\n",
       "<p>41491 rows × 10 columns</p>\n",
       "</div>"
      ],
      "text/plain": [
       "       user_id                       date direction internal  operator_id  \\\n",
       "1       166377  2019-08-05 00:00:00+03:00       out     True       880022   \n",
       "2       166377  2019-08-05 00:00:00+03:00       out     True       880020   \n",
       "3       166377  2019-08-05 00:00:00+03:00       out     True       880020   \n",
       "4       166377  2019-08-05 00:00:00+03:00       out    False       880022   \n",
       "5       166377  2019-08-05 00:00:00+03:00       out    False       880020   \n",
       "...        ...                        ...       ...      ...          ...   \n",
       "53895   168606  2019-11-09 00:00:00+03:00       out    False       957922   \n",
       "53896   168606  2019-11-10 00:00:00+03:00       out     True       957922   \n",
       "53897   168606  2019-11-10 00:00:00+03:00       out     True       957922   \n",
       "53898   168606  2019-11-11 00:00:00+03:00       out     True       957922   \n",
       "53899   168606  2019-11-15 00:00:00+03:00       out     True       957922   \n",
       "\n",
       "       is_missed_call  calls_count  call_duration  total_call_duration  \\\n",
       "1                True            3              0                    5   \n",
       "2                True            1              0                    1   \n",
       "3               False            1             10                   18   \n",
       "4                True            3              0                   25   \n",
       "5               False            2              3                   29   \n",
       "...               ...          ...            ...                  ...   \n",
       "53895           False            4            551                  593   \n",
       "53896           False            1              0                   25   \n",
       "53897            True            1              0                   38   \n",
       "53898           False            2            479                  501   \n",
       "53899           False            4           3130                 3190   \n",
       "\n",
       "       wait_time  \n",
       "1              5  \n",
       "2              1  \n",
       "3              8  \n",
       "4             25  \n",
       "5             26  \n",
       "...          ...  \n",
       "53895         42  \n",
       "53896         25  \n",
       "53897         38  \n",
       "53898         22  \n",
       "53899         60  \n",
       "\n",
       "[41491 rows x 10 columns]"
      ]
     },
     "execution_count": 15,
     "metadata": {},
     "output_type": "execute_result"
    }
   ],
   "source": [
    "telecom_data = telecom_data.dropna()\n",
    "telecom_data"
   ]
  },
  {
   "cell_type": "code",
   "execution_count": null,
   "metadata": {},
   "outputs": [
    {
     "data": {
      "text/html": [
       "<div>\n",
       "<style scoped>\n",
       "    .dataframe tbody tr th:only-of-type {\n",
       "        vertical-align: middle;\n",
       "    }\n",
       "\n",
       "    .dataframe tbody tr th {\n",
       "        vertical-align: top;\n",
       "    }\n",
       "\n",
       "    .dataframe thead th {\n",
       "        text-align: right;\n",
       "    }\n",
       "</style>\n",
       "<table border=\"1\" class=\"dataframe\">\n",
       "  <thead>\n",
       "    <tr style=\"text-align: right;\">\n",
       "      <th></th>\n",
       "      <th>user_id</th>\n",
       "      <th>operator_id</th>\n",
       "      <th>calls_count</th>\n",
       "      <th>call_duration</th>\n",
       "      <th>total_call_duration</th>\n",
       "      <th>wait_time</th>\n",
       "    </tr>\n",
       "  </thead>\n",
       "  <tbody>\n",
       "    <tr>\n",
       "      <th>count</th>\n",
       "      <td>41491.000000</td>\n",
       "      <td>41491.000000</td>\n",
       "      <td>41491.000000</td>\n",
       "      <td>41491.000000</td>\n",
       "      <td>41491.000000</td>\n",
       "      <td>41491.000000</td>\n",
       "    </tr>\n",
       "    <tr>\n",
       "      <th>mean</th>\n",
       "      <td>167301.113543</td>\n",
       "      <td>916516.771155</td>\n",
       "      <td>16.921381</td>\n",
       "      <td>1010.940011</td>\n",
       "      <td>1323.153238</td>\n",
       "      <td>312.213227</td>\n",
       "    </tr>\n",
       "    <tr>\n",
       "      <th>std</th>\n",
       "      <td>600.513986</td>\n",
       "      <td>21234.081589</td>\n",
       "      <td>59.786187</td>\n",
       "      <td>4066.666485</td>\n",
       "      <td>4788.953155</td>\n",
       "      <td>1176.102940</td>\n",
       "    </tr>\n",
       "    <tr>\n",
       "      <th>min</th>\n",
       "      <td>166377.000000</td>\n",
       "      <td>879896.000000</td>\n",
       "      <td>1.000000</td>\n",
       "      <td>0.000000</td>\n",
       "      <td>0.000000</td>\n",
       "      <td>0.000000</td>\n",
       "    </tr>\n",
       "    <tr>\n",
       "      <th>25%</th>\n",
       "      <td>166782.000000</td>\n",
       "      <td>900790.000000</td>\n",
       "      <td>1.000000</td>\n",
       "      <td>0.000000</td>\n",
       "      <td>67.000000</td>\n",
       "      <td>19.000000</td>\n",
       "    </tr>\n",
       "    <tr>\n",
       "      <th>50%</th>\n",
       "      <td>167175.000000</td>\n",
       "      <td>913938.000000</td>\n",
       "      <td>4.000000</td>\n",
       "      <td>106.000000</td>\n",
       "      <td>289.000000</td>\n",
       "      <td>60.000000</td>\n",
       "    </tr>\n",
       "    <tr>\n",
       "      <th>75%</th>\n",
       "      <td>167827.000000</td>\n",
       "      <td>937708.000000</td>\n",
       "      <td>14.000000</td>\n",
       "      <td>772.000000</td>\n",
       "      <td>1107.000000</td>\n",
       "      <td>219.000000</td>\n",
       "    </tr>\n",
       "    <tr>\n",
       "      <th>max</th>\n",
       "      <td>168606.000000</td>\n",
       "      <td>973286.000000</td>\n",
       "      <td>4817.000000</td>\n",
       "      <td>144395.000000</td>\n",
       "      <td>166155.000000</td>\n",
       "      <td>46474.000000</td>\n",
       "    </tr>\n",
       "  </tbody>\n",
       "</table>\n",
       "</div>"
      ],
      "text/plain": [
       "             user_id    operator_id   calls_count  call_duration  \\\n",
       "count   41491.000000   41491.000000  41491.000000   41491.000000   \n",
       "mean   167301.113543  916516.771155     16.921381    1010.940011   \n",
       "std       600.513986   21234.081589     59.786187    4066.666485   \n",
       "min    166377.000000  879896.000000      1.000000       0.000000   \n",
       "25%    166782.000000  900790.000000      1.000000       0.000000   \n",
       "50%    167175.000000  913938.000000      4.000000     106.000000   \n",
       "75%    167827.000000  937708.000000     14.000000     772.000000   \n",
       "max    168606.000000  973286.000000   4817.000000  144395.000000   \n",
       "\n",
       "       total_call_duration     wait_time  \n",
       "count         41491.000000  41491.000000  \n",
       "mean           1323.153238    312.213227  \n",
       "std            4788.953155   1176.102940  \n",
       "min               0.000000      0.000000  \n",
       "25%              67.000000     19.000000  \n",
       "50%             289.000000     60.000000  \n",
       "75%            1107.000000    219.000000  \n",
       "max          166155.000000  46474.000000  "
      ]
     },
     "execution_count": 16,
     "metadata": {},
     "output_type": "execute_result"
    }
   ],
   "source": [
    "telecom_data.describe()"
   ]
  },
  {
   "cell_type": "markdown",
   "metadata": {},
   "source": [
    "** Descripción\n",
    "\n",
    "Obtuvimos el promedio del tiempo de espera; si estamos habando de aproximandamente 4 minutos de espera el tiempo si es muy alto. Considerando que las llamadas no deben de esperar tanto tiempo."
   ]
  },
  {
   "cell_type": "code",
   "execution_count": null,
   "metadata": {},
   "outputs": [
    {
     "data": {
      "text/plain": [
       "14109"
      ]
     },
     "execution_count": 17,
     "metadata": {},
     "output_type": "execute_result"
    }
   ],
   "source": [
    "#Total de llamdas perdidas\n",
    "df_total_missed_calls = telecom_data[telecom_data['is_missed_call'] == True].count()\n",
    "total_missed_calls = df_total_missed_calls['is_missed_call']\n",
    "total_missed_calls"
   ]
  },
  {
   "cell_type": "code",
   "execution_count": null,
   "metadata": {},
   "outputs": [
    {
     "data": {
      "text/html": [
       "<div>\n",
       "<style scoped>\n",
       "    .dataframe tbody tr th:only-of-type {\n",
       "        vertical-align: middle;\n",
       "    }\n",
       "\n",
       "    .dataframe tbody tr th {\n",
       "        vertical-align: top;\n",
       "    }\n",
       "\n",
       "    .dataframe thead th {\n",
       "        text-align: right;\n",
       "    }\n",
       "</style>\n",
       "<table border=\"1\" class=\"dataframe\">\n",
       "  <thead>\n",
       "    <tr style=\"text-align: right;\">\n",
       "      <th></th>\n",
       "      <th>user_id</th>\n",
       "      <th>date</th>\n",
       "      <th>direction</th>\n",
       "      <th>internal</th>\n",
       "      <th>operator_id</th>\n",
       "      <th>is_missed_call</th>\n",
       "      <th>calls_count</th>\n",
       "      <th>call_duration</th>\n",
       "      <th>total_call_duration</th>\n",
       "      <th>wait_time</th>\n",
       "      <th>total_missed_calls</th>\n",
       "    </tr>\n",
       "  </thead>\n",
       "  <tbody>\n",
       "    <tr>\n",
       "      <th>1180</th>\n",
       "      <td>166511</td>\n",
       "      <td>2019-08-20 00:00:00+03:00</td>\n",
       "      <td>out</td>\n",
       "      <td>True</td>\n",
       "      <td>891410</td>\n",
       "      <td>True</td>\n",
       "      <td>1</td>\n",
       "      <td>0</td>\n",
       "      <td>0</td>\n",
       "      <td>0</td>\n",
       "      <td>119</td>\n",
       "    </tr>\n",
       "    <tr>\n",
       "      <th>1239</th>\n",
       "      <td>166511</td>\n",
       "      <td>2019-10-08 00:00:00+03:00</td>\n",
       "      <td>out</td>\n",
       "      <td>False</td>\n",
       "      <td>891410</td>\n",
       "      <td>True</td>\n",
       "      <td>17</td>\n",
       "      <td>0</td>\n",
       "      <td>132</td>\n",
       "      <td>132</td>\n",
       "      <td>119</td>\n",
       "    </tr>\n",
       "    <tr>\n",
       "      <th>1268</th>\n",
       "      <td>166511</td>\n",
       "      <td>2019-10-31 00:00:00+03:00</td>\n",
       "      <td>out</td>\n",
       "      <td>False</td>\n",
       "      <td>891410</td>\n",
       "      <td>True</td>\n",
       "      <td>4</td>\n",
       "      <td>0</td>\n",
       "      <td>48</td>\n",
       "      <td>48</td>\n",
       "      <td>119</td>\n",
       "    </tr>\n",
       "    <tr>\n",
       "      <th>1267</th>\n",
       "      <td>166511</td>\n",
       "      <td>2019-10-30 00:00:00+03:00</td>\n",
       "      <td>out</td>\n",
       "      <td>False</td>\n",
       "      <td>891410</td>\n",
       "      <td>True</td>\n",
       "      <td>13</td>\n",
       "      <td>0</td>\n",
       "      <td>330</td>\n",
       "      <td>330</td>\n",
       "      <td>119</td>\n",
       "    </tr>\n",
       "    <tr>\n",
       "      <th>1266</th>\n",
       "      <td>166511</td>\n",
       "      <td>2019-10-29 00:00:00+03:00</td>\n",
       "      <td>out</td>\n",
       "      <td>True</td>\n",
       "      <td>891410</td>\n",
       "      <td>True</td>\n",
       "      <td>3</td>\n",
       "      <td>0</td>\n",
       "      <td>0</td>\n",
       "      <td>0</td>\n",
       "      <td>119</td>\n",
       "    </tr>\n",
       "    <tr>\n",
       "      <th>...</th>\n",
       "      <td>...</td>\n",
       "      <td>...</td>\n",
       "      <td>...</td>\n",
       "      <td>...</td>\n",
       "      <td>...</td>\n",
       "      <td>...</td>\n",
       "      <td>...</td>\n",
       "      <td>...</td>\n",
       "      <td>...</td>\n",
       "      <td>...</td>\n",
       "      <td>...</td>\n",
       "    </tr>\n",
       "    <tr>\n",
       "      <th>3488</th>\n",
       "      <td>166774</td>\n",
       "      <td>2019-08-26 00:00:00+03:00</td>\n",
       "      <td>out</td>\n",
       "      <td>False</td>\n",
       "      <td>895266</td>\n",
       "      <td>True</td>\n",
       "      <td>1</td>\n",
       "      <td>0</td>\n",
       "      <td>6</td>\n",
       "      <td>6</td>\n",
       "      <td>1</td>\n",
       "    </tr>\n",
       "    <tr>\n",
       "      <th>12746</th>\n",
       "      <td>168187</td>\n",
       "      <td>2019-10-31 00:00:00+03:00</td>\n",
       "      <td>out</td>\n",
       "      <td>False</td>\n",
       "      <td>937772</td>\n",
       "      <td>True</td>\n",
       "      <td>1</td>\n",
       "      <td>0</td>\n",
       "      <td>18</td>\n",
       "      <td>18</td>\n",
       "      <td>1</td>\n",
       "    </tr>\n",
       "    <tr>\n",
       "      <th>3485</th>\n",
       "      <td>166774</td>\n",
       "      <td>2019-08-23 00:00:00+03:00</td>\n",
       "      <td>out</td>\n",
       "      <td>False</td>\n",
       "      <td>891976</td>\n",
       "      <td>True</td>\n",
       "      <td>2</td>\n",
       "      <td>0</td>\n",
       "      <td>23</td>\n",
       "      <td>23</td>\n",
       "      <td>1</td>\n",
       "    </tr>\n",
       "    <tr>\n",
       "      <th>3337</th>\n",
       "      <td>166711</td>\n",
       "      <td>2019-08-23 00:00:00+03:00</td>\n",
       "      <td>out</td>\n",
       "      <td>False</td>\n",
       "      <td>891970</td>\n",
       "      <td>True</td>\n",
       "      <td>9</td>\n",
       "      <td>0</td>\n",
       "      <td>145</td>\n",
       "      <td>145</td>\n",
       "      <td>1</td>\n",
       "    </tr>\n",
       "    <tr>\n",
       "      <th>12745</th>\n",
       "      <td>168187</td>\n",
       "      <td>2019-10-30 00:00:00+03:00</td>\n",
       "      <td>out</td>\n",
       "      <td>True</td>\n",
       "      <td>937710</td>\n",
       "      <td>True</td>\n",
       "      <td>1</td>\n",
       "      <td>0</td>\n",
       "      <td>15</td>\n",
       "      <td>15</td>\n",
       "      <td>1</td>\n",
       "    </tr>\n",
       "  </tbody>\n",
       "</table>\n",
       "<p>14109 rows × 11 columns</p>\n",
       "</div>"
      ],
      "text/plain": [
       "       user_id                       date direction internal  operator_id  \\\n",
       "1180    166511  2019-08-20 00:00:00+03:00       out     True       891410   \n",
       "1239    166511  2019-10-08 00:00:00+03:00       out    False       891410   \n",
       "1268    166511  2019-10-31 00:00:00+03:00       out    False       891410   \n",
       "1267    166511  2019-10-30 00:00:00+03:00       out    False       891410   \n",
       "1266    166511  2019-10-29 00:00:00+03:00       out     True       891410   \n",
       "...        ...                        ...       ...      ...          ...   \n",
       "3488    166774  2019-08-26 00:00:00+03:00       out    False       895266   \n",
       "12746   168187  2019-10-31 00:00:00+03:00       out    False       937772   \n",
       "3485    166774  2019-08-23 00:00:00+03:00       out    False       891976   \n",
       "3337    166711  2019-08-23 00:00:00+03:00       out    False       891970   \n",
       "12745   168187  2019-10-30 00:00:00+03:00       out     True       937710   \n",
       "\n",
       "       is_missed_call  calls_count  call_duration  total_call_duration  \\\n",
       "1180             True            1              0                    0   \n",
       "1239             True           17              0                  132   \n",
       "1268             True            4              0                   48   \n",
       "1267             True           13              0                  330   \n",
       "1266             True            3              0                    0   \n",
       "...               ...          ...            ...                  ...   \n",
       "3488             True            1              0                    6   \n",
       "12746            True            1              0                   18   \n",
       "3485             True            2              0                   23   \n",
       "3337             True            9              0                  145   \n",
       "12745            True            1              0                   15   \n",
       "\n",
       "       wait_time  total_missed_calls  \n",
       "1180           0                 119  \n",
       "1239         132                 119  \n",
       "1268          48                 119  \n",
       "1267         330                 119  \n",
       "1266           0                 119  \n",
       "...          ...                 ...  \n",
       "3488           6                   1  \n",
       "12746         18                   1  \n",
       "3485          23                   1  \n",
       "3337         145                   1  \n",
       "12745         15                   1  \n",
       "\n",
       "[14109 rows x 11 columns]"
      ]
     },
     "execution_count": 18,
     "metadata": {},
     "output_type": "execute_result"
    }
   ],
   "source": [
    "df_missed_calls = telecom_data[telecom_data['is_missed_call'] == True]\n",
    "\n",
    "df_missed_calls2 = df_missed_calls.groupby('operator_id')['operator_id'].count().reset_index(name='total_missed_calls')\n",
    "\n",
    "df_missed_calls2\n",
    "\n",
    "df_missed_calls = pd.merge(df_missed_calls, df_missed_calls2, on=['operator_id'])\n",
    "\n",
    "df_missed_calls.sort_values(by='total_missed_calls', ascending=False)\n"
   ]
  },
  {
   "cell_type": "code",
   "execution_count": null,
   "metadata": {
    "scrolled": true
   },
   "outputs": [
    {
     "data": {
      "text/html": [
       "<div>\n",
       "<style scoped>\n",
       "    .dataframe tbody tr th:only-of-type {\n",
       "        vertical-align: middle;\n",
       "    }\n",
       "\n",
       "    .dataframe tbody tr th {\n",
       "        vertical-align: top;\n",
       "    }\n",
       "\n",
       "    .dataframe thead th {\n",
       "        text-align: right;\n",
       "    }\n",
       "</style>\n",
       "<table border=\"1\" class=\"dataframe\">\n",
       "  <thead>\n",
       "    <tr style=\"text-align: right;\">\n",
       "      <th></th>\n",
       "      <th>operator_id</th>\n",
       "      <th>total_call_duration</th>\n",
       "      <th>call_duration</th>\n",
       "      <th>calls_count</th>\n",
       "      <th>wait_time</th>\n",
       "      <th>total_missed_calls</th>\n",
       "      <th>missed_calls_percentage</th>\n",
       "    </tr>\n",
       "  </thead>\n",
       "  <tbody>\n",
       "    <tr>\n",
       "      <th>63</th>\n",
       "      <td>891410</td>\n",
       "      <td>10638</td>\n",
       "      <td>1</td>\n",
       "      <td>972</td>\n",
       "      <td>89.386555</td>\n",
       "      <td>119</td>\n",
       "      <td>12.242798</td>\n",
       "    </tr>\n",
       "    <tr>\n",
       "      <th>24</th>\n",
       "      <td>885876</td>\n",
       "      <td>714852</td>\n",
       "      <td>5</td>\n",
       "      <td>23330</td>\n",
       "      <td>6216.060870</td>\n",
       "      <td>115</td>\n",
       "      <td>0.492928</td>\n",
       "    </tr>\n",
       "    <tr>\n",
       "      <th>64</th>\n",
       "      <td>891414</td>\n",
       "      <td>6027</td>\n",
       "      <td>0</td>\n",
       "      <td>893</td>\n",
       "      <td>53.336283</td>\n",
       "      <td>113</td>\n",
       "      <td>12.653975</td>\n",
       "    </tr>\n",
       "    <tr>\n",
       "      <th>166</th>\n",
       "      <td>901880</td>\n",
       "      <td>19109</td>\n",
       "      <td>0</td>\n",
       "      <td>740</td>\n",
       "      <td>172.153153</td>\n",
       "      <td>111</td>\n",
       "      <td>15.000000</td>\n",
       "    </tr>\n",
       "    <tr>\n",
       "      <th>89</th>\n",
       "      <td>893804</td>\n",
       "      <td>28565</td>\n",
       "      <td>3</td>\n",
       "      <td>1323</td>\n",
       "      <td>259.654545</td>\n",
       "      <td>110</td>\n",
       "      <td>8.314437</td>\n",
       "    </tr>\n",
       "    <tr>\n",
       "      <th>...</th>\n",
       "      <td>...</td>\n",
       "      <td>...</td>\n",
       "      <td>...</td>\n",
       "      <td>...</td>\n",
       "      <td>...</td>\n",
       "      <td>...</td>\n",
       "      <td>...</td>\n",
       "    </tr>\n",
       "    <tr>\n",
       "      <th>522</th>\n",
       "      <td>934188</td>\n",
       "      <td>8</td>\n",
       "      <td>0</td>\n",
       "      <td>1</td>\n",
       "      <td>8.000000</td>\n",
       "      <td>1</td>\n",
       "      <td>100.000000</td>\n",
       "    </tr>\n",
       "    <tr>\n",
       "      <th>524</th>\n",
       "      <td>934430</td>\n",
       "      <td>26</td>\n",
       "      <td>0</td>\n",
       "      <td>1</td>\n",
       "      <td>26.000000</td>\n",
       "      <td>1</td>\n",
       "      <td>100.000000</td>\n",
       "    </tr>\n",
       "    <tr>\n",
       "      <th>525</th>\n",
       "      <td>934476</td>\n",
       "      <td>247</td>\n",
       "      <td>0</td>\n",
       "      <td>9</td>\n",
       "      <td>247.000000</td>\n",
       "      <td>1</td>\n",
       "      <td>11.111111</td>\n",
       "    </tr>\n",
       "    <tr>\n",
       "      <th>533</th>\n",
       "      <td>935958</td>\n",
       "      <td>8</td>\n",
       "      <td>0</td>\n",
       "      <td>1</td>\n",
       "      <td>8.000000</td>\n",
       "      <td>1</td>\n",
       "      <td>100.000000</td>\n",
       "    </tr>\n",
       "    <tr>\n",
       "      <th>875</th>\n",
       "      <td>973120</td>\n",
       "      <td>1</td>\n",
       "      <td>0</td>\n",
       "      <td>2</td>\n",
       "      <td>1.000000</td>\n",
       "      <td>1</td>\n",
       "      <td>50.000000</td>\n",
       "    </tr>\n",
       "  </tbody>\n",
       "</table>\n",
       "<p>876 rows × 7 columns</p>\n",
       "</div>"
      ],
      "text/plain": [
       "     operator_id  total_call_duration  call_duration  calls_count  \\\n",
       "63        891410                10638              1          972   \n",
       "24        885876               714852              5        23330   \n",
       "64        891414                 6027              0          893   \n",
       "166       901880                19109              0          740   \n",
       "89        893804                28565              3         1323   \n",
       "..           ...                  ...            ...          ...   \n",
       "522       934188                    8              0            1   \n",
       "524       934430                   26              0            1   \n",
       "525       934476                  247              0            9   \n",
       "533       935958                    8              0            1   \n",
       "875       973120                    1              0            2   \n",
       "\n",
       "       wait_time  total_missed_calls  missed_calls_percentage  \n",
       "63     89.386555                 119                12.242798  \n",
       "24   6216.060870                 115                 0.492928  \n",
       "64     53.336283                 113                12.653975  \n",
       "166   172.153153                 111                15.000000  \n",
       "89    259.654545                 110                 8.314437  \n",
       "..           ...                 ...                      ...  \n",
       "522     8.000000                   1               100.000000  \n",
       "524    26.000000                   1               100.000000  \n",
       "525   247.000000                   1                11.111111  \n",
       "533     8.000000                   1               100.000000  \n",
       "875     1.000000                   1                50.000000  \n",
       "\n",
       "[876 rows x 7 columns]"
      ]
     },
     "execution_count": 19,
     "metadata": {},
     "output_type": "execute_result"
    }
   ],
   "source": [
    "# Agrupar por operador y calcular métricas clave\n",
    "operator_metrics = df_missed_calls.groupby('operator_id').agg({\n",
    "    'total_call_duration': 'sum',\n",
    "    'call_duration': 'sum',\n",
    "    'calls_count': 'sum',\n",
    "    'wait_time': 'mean',\n",
    "    'total_missed_calls': 'count'\n",
    "}).reset_index()\n",
    "\n",
    "# Crear una columna para porcentaje de llamadas perdidas\n",
    "operator_metrics['missed_calls_percentage'] = (\n",
    "    operator_metrics['total_missed_calls'] / operator_metrics['calls_count']\n",
    ") * 100\n",
    "\n",
    "operator_metrics.sort_values(by='total_missed_calls', ascending=False)"
   ]
  },
  {
   "cell_type": "markdown",
   "metadata": {},
   "source": [
    "Total de porcentaje de llamadas perdidas por operador."
   ]
  },
  {
   "cell_type": "code",
   "execution_count": null,
   "metadata": {},
   "outputs": [
    {
     "data": {
      "text/plain": [
       "operator_id                925056.472603\n",
       "total_call_duration          7201.728311\n",
       "call_duration                  27.027397\n",
       "calls_count                   310.865297\n",
       "wait_time                     288.836294\n",
       "total_missed_calls             16.106164\n",
       "missed_calls_percentage        39.357478\n",
       "dtype: float64"
      ]
     },
     "execution_count": 20,
     "metadata": {},
     "output_type": "execute_result"
    }
   ],
   "source": [
    "operator_metrics.mean()"
   ]
  },
  {
   "cell_type": "code",
   "execution_count": null,
   "metadata": {
    "scrolled": true
   },
   "outputs": [
    {
     "data": {
      "text/html": [
       "<div>\n",
       "<style scoped>\n",
       "    .dataframe tbody tr th:only-of-type {\n",
       "        vertical-align: middle;\n",
       "    }\n",
       "\n",
       "    .dataframe tbody tr th {\n",
       "        vertical-align: top;\n",
       "    }\n",
       "\n",
       "    .dataframe thead th {\n",
       "        text-align: right;\n",
       "    }\n",
       "</style>\n",
       "<table border=\"1\" class=\"dataframe\">\n",
       "  <thead>\n",
       "    <tr style=\"text-align: right;\">\n",
       "      <th></th>\n",
       "      <th>operator_id</th>\n",
       "      <th>total_call_duration</th>\n",
       "      <th>call_duration</th>\n",
       "      <th>calls_count</th>\n",
       "      <th>wait_time</th>\n",
       "      <th>total_missed_calls</th>\n",
       "      <th>missed_calls_percentage</th>\n",
       "    </tr>\n",
       "  </thead>\n",
       "  <tbody>\n",
       "    <tr>\n",
       "      <th>532</th>\n",
       "      <td>935548</td>\n",
       "      <td>23</td>\n",
       "      <td>0</td>\n",
       "      <td>2</td>\n",
       "      <td>11.500000</td>\n",
       "      <td>2</td>\n",
       "      <td>100.000000</td>\n",
       "    </tr>\n",
       "    <tr>\n",
       "      <th>318</th>\n",
       "      <td>915958</td>\n",
       "      <td>97</td>\n",
       "      <td>0</td>\n",
       "      <td>4</td>\n",
       "      <td>24.250000</td>\n",
       "      <td>4</td>\n",
       "      <td>100.000000</td>\n",
       "    </tr>\n",
       "    <tr>\n",
       "      <th>120</th>\n",
       "      <td>896538</td>\n",
       "      <td>42</td>\n",
       "      <td>0</td>\n",
       "      <td>1</td>\n",
       "      <td>42.000000</td>\n",
       "      <td>1</td>\n",
       "      <td>100.000000</td>\n",
       "    </tr>\n",
       "    <tr>\n",
       "      <th>345</th>\n",
       "      <td>919164</td>\n",
       "      <td>81</td>\n",
       "      <td>1</td>\n",
       "      <td>7</td>\n",
       "      <td>11.428571</td>\n",
       "      <td>7</td>\n",
       "      <td>100.000000</td>\n",
       "    </tr>\n",
       "    <tr>\n",
       "      <th>676</th>\n",
       "      <td>944560</td>\n",
       "      <td>10</td>\n",
       "      <td>0</td>\n",
       "      <td>1</td>\n",
       "      <td>10.000000</td>\n",
       "      <td>1</td>\n",
       "      <td>100.000000</td>\n",
       "    </tr>\n",
       "    <tr>\n",
       "      <th>...</th>\n",
       "      <td>...</td>\n",
       "      <td>...</td>\n",
       "      <td>...</td>\n",
       "      <td>...</td>\n",
       "      <td>...</td>\n",
       "      <td>...</td>\n",
       "      <td>...</td>\n",
       "    </tr>\n",
       "    <tr>\n",
       "      <th>473</th>\n",
       "      <td>929426</td>\n",
       "      <td>126949</td>\n",
       "      <td>0</td>\n",
       "      <td>6347</td>\n",
       "      <td>4095.129032</td>\n",
       "      <td>31</td>\n",
       "      <td>0.488420</td>\n",
       "    </tr>\n",
       "    <tr>\n",
       "      <th>25</th>\n",
       "      <td>885890</td>\n",
       "      <td>772524</td>\n",
       "      <td>5</td>\n",
       "      <td>23807</td>\n",
       "      <td>7648.702970</td>\n",
       "      <td>101</td>\n",
       "      <td>0.424245</td>\n",
       "    </tr>\n",
       "    <tr>\n",
       "      <th>452</th>\n",
       "      <td>925922</td>\n",
       "      <td>238223</td>\n",
       "      <td>4</td>\n",
       "      <td>9258</td>\n",
       "      <td>7940.633333</td>\n",
       "      <td>30</td>\n",
       "      <td>0.324044</td>\n",
       "    </tr>\n",
       "    <tr>\n",
       "      <th>258</th>\n",
       "      <td>908640</td>\n",
       "      <td>98901</td>\n",
       "      <td>0</td>\n",
       "      <td>8164</td>\n",
       "      <td>4709.571429</td>\n",
       "      <td>21</td>\n",
       "      <td>0.257227</td>\n",
       "    </tr>\n",
       "    <tr>\n",
       "      <th>474</th>\n",
       "      <td>929428</td>\n",
       "      <td>278503</td>\n",
       "      <td>0</td>\n",
       "      <td>19118</td>\n",
       "      <td>8703.218750</td>\n",
       "      <td>32</td>\n",
       "      <td>0.167382</td>\n",
       "    </tr>\n",
       "  </tbody>\n",
       "</table>\n",
       "<p>670 rows × 7 columns</p>\n",
       "</div>"
      ],
      "text/plain": [
       "     operator_id  total_call_duration  call_duration  calls_count  \\\n",
       "532       935548                   23              0            2   \n",
       "318       915958                   97              0            4   \n",
       "120       896538                   42              0            1   \n",
       "345       919164                   81              1            7   \n",
       "676       944560                   10              0            1   \n",
       "..           ...                  ...            ...          ...   \n",
       "473       929426               126949              0         6347   \n",
       "25        885890               772524              5        23807   \n",
       "452       925922               238223              4         9258   \n",
       "258       908640                98901              0         8164   \n",
       "474       929428               278503              0        19118   \n",
       "\n",
       "       wait_time  total_missed_calls  missed_calls_percentage  \n",
       "532    11.500000                   2               100.000000  \n",
       "318    24.250000                   4               100.000000  \n",
       "120    42.000000                   1               100.000000  \n",
       "345    11.428571                   7               100.000000  \n",
       "676    10.000000                   1               100.000000  \n",
       "..           ...                 ...                      ...  \n",
       "473  4095.129032                  31                 0.488420  \n",
       "25   7648.702970                 101                 0.424245  \n",
       "452  7940.633333                  30                 0.324044  \n",
       "258  4709.571429                  21                 0.257227  \n",
       "474  8703.218750                  32                 0.167382  \n",
       "\n",
       "[670 rows x 7 columns]"
      ]
     },
     "execution_count": 21,
     "metadata": {},
     "output_type": "execute_result"
    }
   ],
   "source": [
    "#Filtrar operadores con métricas por debajo de los umbrales deseados.\n",
    "\n",
    "ineffective_operators = operator_metrics[\n",
    "    (operator_metrics['missed_calls_percentage'] > 40) |\n",
    "    (operator_metrics['total_missed_calls'] > 16) |\n",
    "    (operator_metrics['calls_count'] > 250)\n",
    "]\n",
    "ineffective_operators.sort_values(by='missed_calls_percentage', ascending=False)"
   ]
  },
  {
   "cell_type": "markdown",
   "metadata": {},
   "source": [
    "Para obtener el listado de operadores ineficientes, primero definiremos el umbral de porcentaje de llamadas perdidas y tambien definiremos el total de minutos de llamadas en espera. \n",
    "\n",
    "Los valores definidos son: \n",
    "\n",
    "% Llamadas perdidas = 4 \n",
    "Tiempo de espera de llamadas = 216\n",
    "\n",
    "Mediante estas metricas obtendremos los operadores que son ineficientes. "
   ]
  },
  {
   "cell_type": "markdown",
   "metadata": {},
   "source": [
    "<div class=\"alert alert-block alert-info\">\n",
    "<b></b>\n",
    "<br><br>\n",
    " Se agrego una nueva coloumna con el total de llamadas perdidas, para  hacer el calculo de llamadas perdidas contra el total de llamadas  por operador. Lo cual nos brinda un valor exacto de la eficiencia del operador. \n",
    "<br><br>\n",
    "Se actualizarón los umbrales para medir la eficiencia de un operador basado en las métricas y promedios de las siguientes columnas: \n",
    "'missed_calls_percentage', 'total_missed_calls', 'calls_count'\n",
    "<br><br>\n",
    "Se realizarón 2 gráficos de dispersión para identificar el total de llamadas y total de llamadas perdidas. \n",
    "</div>"
   ]
  },
  {
   "cell_type": "code",
   "execution_count": null,
   "metadata": {},
   "outputs": [
    {
     "data": {
      "text/html": [
       "<div>\n",
       "<style scoped>\n",
       "    .dataframe tbody tr th:only-of-type {\n",
       "        vertical-align: middle;\n",
       "    }\n",
       "\n",
       "    .dataframe tbody tr th {\n",
       "        vertical-align: top;\n",
       "    }\n",
       "\n",
       "    .dataframe thead th {\n",
       "        text-align: right;\n",
       "    }\n",
       "</style>\n",
       "<table border=\"1\" class=\"dataframe\">\n",
       "  <thead>\n",
       "    <tr style=\"text-align: right;\">\n",
       "      <th></th>\n",
       "      <th>operator_id</th>\n",
       "      <th>total_call_duration</th>\n",
       "      <th>call_duration</th>\n",
       "      <th>calls_count</th>\n",
       "      <th>wait_time</th>\n",
       "      <th>total_missed_calls</th>\n",
       "      <th>missed_calls_percentage</th>\n",
       "    </tr>\n",
       "  </thead>\n",
       "  <tbody>\n",
       "    <tr>\n",
       "      <th>566</th>\n",
       "      <td>937786</td>\n",
       "      <td>146</td>\n",
       "      <td>0</td>\n",
       "      <td>5</td>\n",
       "      <td>73.000000</td>\n",
       "      <td>2</td>\n",
       "      <td>40.000000</td>\n",
       "    </tr>\n",
       "    <tr>\n",
       "      <th>817</th>\n",
       "      <td>958472</td>\n",
       "      <td>139</td>\n",
       "      <td>0</td>\n",
       "      <td>15</td>\n",
       "      <td>23.166667</td>\n",
       "      <td>6</td>\n",
       "      <td>40.000000</td>\n",
       "    </tr>\n",
       "    <tr>\n",
       "      <th>118</th>\n",
       "      <td>896430</td>\n",
       "      <td>55</td>\n",
       "      <td>0</td>\n",
       "      <td>5</td>\n",
       "      <td>27.500000</td>\n",
       "      <td>2</td>\n",
       "      <td>40.000000</td>\n",
       "    </tr>\n",
       "    <tr>\n",
       "      <th>765</th>\n",
       "      <td>951650</td>\n",
       "      <td>111</td>\n",
       "      <td>0</td>\n",
       "      <td>5</td>\n",
       "      <td>55.500000</td>\n",
       "      <td>2</td>\n",
       "      <td>40.000000</td>\n",
       "    </tr>\n",
       "    <tr>\n",
       "      <th>527</th>\n",
       "      <td>935216</td>\n",
       "      <td>70</td>\n",
       "      <td>0</td>\n",
       "      <td>10</td>\n",
       "      <td>17.500000</td>\n",
       "      <td>4</td>\n",
       "      <td>40.000000</td>\n",
       "    </tr>\n",
       "    <tr>\n",
       "      <th>...</th>\n",
       "      <td>...</td>\n",
       "      <td>...</td>\n",
       "      <td>...</td>\n",
       "      <td>...</td>\n",
       "      <td>...</td>\n",
       "      <td>...</td>\n",
       "      <td>...</td>\n",
       "    </tr>\n",
       "    <tr>\n",
       "      <th>594</th>\n",
       "      <td>938072</td>\n",
       "      <td>4289</td>\n",
       "      <td>0</td>\n",
       "      <td>197</td>\n",
       "      <td>1072.250000</td>\n",
       "      <td>4</td>\n",
       "      <td>2.030457</td>\n",
       "    </tr>\n",
       "    <tr>\n",
       "      <th>654</th>\n",
       "      <td>941390</td>\n",
       "      <td>2440</td>\n",
       "      <td>0</td>\n",
       "      <td>151</td>\n",
       "      <td>813.333333</td>\n",
       "      <td>3</td>\n",
       "      <td>1.986755</td>\n",
       "    </tr>\n",
       "    <tr>\n",
       "      <th>523</th>\n",
       "      <td>934426</td>\n",
       "      <td>3085</td>\n",
       "      <td>0</td>\n",
       "      <td>110</td>\n",
       "      <td>1542.500000</td>\n",
       "      <td>2</td>\n",
       "      <td>1.818182</td>\n",
       "    </tr>\n",
       "    <tr>\n",
       "      <th>348</th>\n",
       "      <td>919190</td>\n",
       "      <td>1004</td>\n",
       "      <td>0</td>\n",
       "      <td>60</td>\n",
       "      <td>1004.000000</td>\n",
       "      <td>1</td>\n",
       "      <td>1.666667</td>\n",
       "    </tr>\n",
       "    <tr>\n",
       "      <th>664</th>\n",
       "      <td>943050</td>\n",
       "      <td>423</td>\n",
       "      <td>0</td>\n",
       "      <td>61</td>\n",
       "      <td>423.000000</td>\n",
       "      <td>1</td>\n",
       "      <td>1.639344</td>\n",
       "    </tr>\n",
       "  </tbody>\n",
       "</table>\n",
       "<p>206 rows × 7 columns</p>\n",
       "</div>"
      ],
      "text/plain": [
       "     operator_id  total_call_duration  call_duration  calls_count  \\\n",
       "566       937786                  146              0            5   \n",
       "817       958472                  139              0           15   \n",
       "118       896430                   55              0            5   \n",
       "765       951650                  111              0            5   \n",
       "527       935216                   70              0           10   \n",
       "..           ...                  ...            ...          ...   \n",
       "594       938072                 4289              0          197   \n",
       "654       941390                 2440              0          151   \n",
       "523       934426                 3085              0          110   \n",
       "348       919190                 1004              0           60   \n",
       "664       943050                  423              0           61   \n",
       "\n",
       "       wait_time  total_missed_calls  missed_calls_percentage  \n",
       "566    73.000000                   2                40.000000  \n",
       "817    23.166667                   6                40.000000  \n",
       "118    27.500000                   2                40.000000  \n",
       "765    55.500000                   2                40.000000  \n",
       "527    17.500000                   4                40.000000  \n",
       "..           ...                 ...                      ...  \n",
       "594  1072.250000                   4                 2.030457  \n",
       "654   813.333333                   3                 1.986755  \n",
       "523  1542.500000                   2                 1.818182  \n",
       "348  1004.000000                   1                 1.666667  \n",
       "664   423.000000                   1                 1.639344  \n",
       "\n",
       "[206 rows x 7 columns]"
      ]
     },
     "execution_count": 22,
     "metadata": {},
     "output_type": "execute_result"
    }
   ],
   "source": [
    "effective_operators = operator_metrics[\n",
    "    (operator_metrics['missed_calls_percentage'] <= 40) &\n",
    "    (operator_metrics['total_missed_calls'] <= 16) &\n",
    "    (operator_metrics['calls_count'] <= 250)\n",
    "]\n",
    "effective_operators.sort_values(by='missed_calls_percentage', ascending=False)"
   ]
  },
  {
   "cell_type": "markdown",
   "metadata": {},
   "source": [
    "## Gráficos"
   ]
  },
  {
   "cell_type": "code",
   "execution_count": null,
   "metadata": {},
   "outputs": [
    {
     "data": {
      "text/plain": [
       "Text(0, 0.5, 'Total de llamadas')"
      ]
     },
     "execution_count": 23,
     "metadata": {},
     "output_type": "execute_result"
    },
    {
     "data": {
      "image/png": "[encoded data removed]",
      "text/plain": [
       "<Figure size 640x480 with 1 Axes>"
      ]
     },
     "metadata": {},
     "output_type": "display_data"
    }
   ],
   "source": [
    "#grafica 1 total de llamadas perdidas \n",
    "sns.scatterplot(y=ineffective_operators['calls_count'], x=ineffective_operators['total_missed_calls'], data=ineffective_operators)\n",
    "\n",
    "# Configuración del gráfico\n",
    "plt.title('Gráfico de Dispersión de total de llamadas perdidas contra total de llamadas')\n",
    "plt.xlabel('Total de llamadas perdidas')\n",
    "plt.ylabel('Total de llamadas')\n"
   ]
  },
  {
   "cell_type": "code",
   "execution_count": null,
   "metadata": {},
   "outputs": [
    {
     "data": {
      "image/png": "[encoded data removed]",
      "text/plain": [
       "<Figure size 640x480 with 1 Axes>"
      ]
     },
     "metadata": {},
     "output_type": "display_data"
    }
   ],
   "source": [
    "#Gráfico de duracion de llamadas y tiempo de espera\n",
    "plt.plot(ineffective_operators['call_duration'], \n",
    "         ineffective_operators['wait_time'], label= 'Operadores ineficientes', marker = 'o')\n",
    "                                                              \n",
    "plt.plot (effective_operators['call_duration'], \n",
    "          effective_operators['wait_time'], label= 'Operadores  eficientes', marker = 's')\n",
    "plt.title ('Gráfico de operadores eficientes & ineficientes')\n",
    "plt.xlabel ('Duración de llamadas')\n",
    "plt.ylabel ('Tiempo de espera')\n",
    "plt.legend ()\n",
    "plt.grid ()\n",
    "plt.show()"
   ]
  },
  {
   "cell_type": "code",
   "execution_count": null,
   "metadata": {},
   "outputs": [
    {
     "data": {
      "image/png": "[encoded data removed]",
      "text/plain": [
       "<Figure size 640x480 with 1 Axes>"
      ]
     },
     "metadata": {},
     "output_type": "display_data"
    }
   ],
   "source": [
    "# Gráfico calls_count y total_missed_calls\n",
    "plt.plot(ineffective_operators['calls_count'], \n",
    "         ineffective_operators['total_missed_calls'], label= 'Operadores ineficientes', marker = 'o')\n",
    "                                                              \n",
    "plt.plot (effective_operators['calls_count'], \n",
    "          effective_operators['total_missed_calls'], label= 'Operadores  eficientes', marker = 's')\n",
    "plt.title ('Gráfico de operadores eficientes & ineficientes')\n",
    "plt.xlabel ('Total de llamadas')\n",
    "plt.ylabel ('Total de llamadas perdidas')\n",
    "plt.legend ()\n",
    "plt.grid ()\n",
    "plt.show()"
   ]
  },
  {
   "cell_type": "markdown",
   "metadata": {},
   "source": [
    "Con este gráfico  confirmamos el comportamiento de los operadores eficientes, como se muestra en el gráfico los operadores eficientes tienen un número muy bajo de llamadas perdidas en comparación con el otro  grupo  de operadores, que muestran un alto porcentaje de llamadas perdidas pueden considerarse ineficientes. "
   ]
  },
  {
   "cell_type": "markdown",
   "metadata": {},
   "source": [
    "<div class=\"alert alert-block alert-info\">\n",
    "<b></b>\n",
    "<br><br>\n",
    " Se genero un gráfico donde se muestran los grupos de operadores eficientes y no eficientes. Mostrando las diferencias de tiempo de espera y duración de llamadas. \n",
    "<br><br>\n",
    "Esto nos ayuda a visualizar el comportamiento en ambos grupos y poder observar que los operatadores ineficientes tienen mayor tiempo de espera, mayor numero de llamadas, en comparación con los operadores eficientes. \n",
    "<br><br>\n",
    " \n",
    "</div>"
   ]
  },
  {
   "cell_type": "markdown",
   "metadata": {},
   "source": [
    "## Clusteres de operadores ineficientes"
   ]
  },
  {
   "cell_type": "code",
   "execution_count": null,
   "metadata": {},
   "outputs": [
    {
     "data": {
      "text/html": [
       "<div>\n",
       "<style scoped>\n",
       "    .dataframe tbody tr th:only-of-type {\n",
       "        vertical-align: middle;\n",
       "    }\n",
       "\n",
       "    .dataframe tbody tr th {\n",
       "        vertical-align: top;\n",
       "    }\n",
       "\n",
       "    .dataframe thead th {\n",
       "        text-align: right;\n",
       "    }\n",
       "</style>\n",
       "<table border=\"1\" class=\"dataframe\">\n",
       "  <thead>\n",
       "    <tr style=\"text-align: right;\">\n",
       "      <th></th>\n",
       "      <th>operator_id</th>\n",
       "      <th>total_call_duration</th>\n",
       "      <th>call_duration</th>\n",
       "      <th>calls_count</th>\n",
       "      <th>wait_time</th>\n",
       "      <th>total_missed_calls</th>\n",
       "      <th>missed_calls_percentage</th>\n",
       "    </tr>\n",
       "  </thead>\n",
       "  <tbody>\n",
       "    <tr>\n",
       "      <th>212</th>\n",
       "      <td>905842</td>\n",
       "      <td>9682</td>\n",
       "      <td>0</td>\n",
       "      <td>618</td>\n",
       "      <td>169.859649</td>\n",
       "      <td>57</td>\n",
       "      <td>9.223301</td>\n",
       "    </tr>\n",
       "    <tr>\n",
       "      <th>232</th>\n",
       "      <td>906410</td>\n",
       "      <td>412</td>\n",
       "      <td>173</td>\n",
       "      <td>13</td>\n",
       "      <td>26.555556</td>\n",
       "      <td>9</td>\n",
       "      <td>69.230769</td>\n",
       "    </tr>\n",
       "    <tr>\n",
       "      <th>669</th>\n",
       "      <td>944218</td>\n",
       "      <td>1361</td>\n",
       "      <td>60</td>\n",
       "      <td>49</td>\n",
       "      <td>48.185185</td>\n",
       "      <td>27</td>\n",
       "      <td>55.102041</td>\n",
       "    </tr>\n",
       "    <tr>\n",
       "      <th>63</th>\n",
       "      <td>891410</td>\n",
       "      <td>10638</td>\n",
       "      <td>1</td>\n",
       "      <td>972</td>\n",
       "      <td>89.386555</td>\n",
       "      <td>119</td>\n",
       "      <td>12.242798</td>\n",
       "    </tr>\n",
       "    <tr>\n",
       "      <th>407</th>\n",
       "      <td>921316</td>\n",
       "      <td>400</td>\n",
       "      <td>0</td>\n",
       "      <td>46</td>\n",
       "      <td>21.052632</td>\n",
       "      <td>19</td>\n",
       "      <td>41.304348</td>\n",
       "    </tr>\n",
       "    <tr>\n",
       "      <th>754</th>\n",
       "      <td>950972</td>\n",
       "      <td>7477</td>\n",
       "      <td>0</td>\n",
       "      <td>264</td>\n",
       "      <td>830.777778</td>\n",
       "      <td>9</td>\n",
       "      <td>3.409091</td>\n",
       "    </tr>\n",
       "    <tr>\n",
       "      <th>321</th>\n",
       "      <td>916618</td>\n",
       "      <td>247</td>\n",
       "      <td>0</td>\n",
       "      <td>13</td>\n",
       "      <td>24.700000</td>\n",
       "      <td>10</td>\n",
       "      <td>76.923077</td>\n",
       "    </tr>\n",
       "    <tr>\n",
       "      <th>43</th>\n",
       "      <td>890228</td>\n",
       "      <td>920</td>\n",
       "      <td>0</td>\n",
       "      <td>32</td>\n",
       "      <td>61.333333</td>\n",
       "      <td>15</td>\n",
       "      <td>46.875000</td>\n",
       "    </tr>\n",
       "    <tr>\n",
       "      <th>26</th>\n",
       "      <td>886146</td>\n",
       "      <td>646</td>\n",
       "      <td>0</td>\n",
       "      <td>19</td>\n",
       "      <td>80.750000</td>\n",
       "      <td>8</td>\n",
       "      <td>42.105263</td>\n",
       "    </tr>\n",
       "    <tr>\n",
       "      <th>710</th>\n",
       "      <td>945900</td>\n",
       "      <td>42621</td>\n",
       "      <td>0</td>\n",
       "      <td>1874</td>\n",
       "      <td>2029.571429</td>\n",
       "      <td>21</td>\n",
       "      <td>1.120598</td>\n",
       "    </tr>\n",
       "  </tbody>\n",
       "</table>\n",
       "</div>"
      ],
      "text/plain": [
       "     operator_id  total_call_duration  call_duration  calls_count  \\\n",
       "212       905842                 9682              0          618   \n",
       "232       906410                  412            173           13   \n",
       "669       944218                 1361             60           49   \n",
       "63        891410                10638              1          972   \n",
       "407       921316                  400              0           46   \n",
       "754       950972                 7477              0          264   \n",
       "321       916618                  247              0           13   \n",
       "43        890228                  920              0           32   \n",
       "26        886146                  646              0           19   \n",
       "710       945900                42621              0         1874   \n",
       "\n",
       "       wait_time  total_missed_calls  missed_calls_percentage  \n",
       "212   169.859649                  57                 9.223301  \n",
       "232    26.555556                   9                69.230769  \n",
       "669    48.185185                  27                55.102041  \n",
       "63     89.386555                 119                12.242798  \n",
       "407    21.052632                  19                41.304348  \n",
       "754   830.777778                   9                 3.409091  \n",
       "321    24.700000                  10                76.923077  \n",
       "43     61.333333                  15                46.875000  \n",
       "26     80.750000                   8                42.105263  \n",
       "710  2029.571429                  21                 1.120598  "
      ]
     },
     "execution_count": 26,
     "metadata": {},
     "output_type": "execute_result"
    }
   ],
   "source": [
    "ineffective_operators.sample(10)"
   ]
  },
  {
   "cell_type": "code",
   "execution_count": null,
   "metadata": {},
   "outputs": [
    {
     "name": "stderr",
     "output_type": "stream",
     "text": [
      "/tmp/ipykernel_32/2400318022.py:1: SettingWithCopyWarning: \n",
      "A value is trying to be set on a copy of a slice from a DataFrame.\n",
      "Try using .loc[row_indexer,col_indexer] = value instead\n",
      "\n",
      "See the caveats in the documentation: https://pandas.pydata.org/pandas-docs/stable/user_guide/indexing.html#returning-a-view-versus-a-copy\n",
      "  ineffective_operators['effective'] = False\n",
      "/tmp/ipykernel_32/2400318022.py:2: SettingWithCopyWarning: \n",
      "A value is trying to be set on a copy of a slice from a DataFrame.\n",
      "Try using .loc[row_indexer,col_indexer] = value instead\n",
      "\n",
      "See the caveats in the documentation: https://pandas.pydata.org/pandas-docs/stable/user_guide/indexing.html#returning-a-view-versus-a-copy\n",
      "  effective_operators['effective'] = True\n"
     ]
    },
    {
     "data": {
      "text/html": [
       "<div>\n",
       "<style scoped>\n",
       "    .dataframe tbody tr th:only-of-type {\n",
       "        vertical-align: middle;\n",
       "    }\n",
       "\n",
       "    .dataframe tbody tr th {\n",
       "        vertical-align: top;\n",
       "    }\n",
       "\n",
       "    .dataframe thead th {\n",
       "        text-align: right;\n",
       "    }\n",
       "</style>\n",
       "<table border=\"1\" class=\"dataframe\">\n",
       "  <thead>\n",
       "    <tr style=\"text-align: right;\">\n",
       "      <th></th>\n",
       "      <th>operator_id</th>\n",
       "      <th>total_call_duration</th>\n",
       "      <th>call_duration</th>\n",
       "      <th>calls_count</th>\n",
       "      <th>wait_time</th>\n",
       "      <th>total_missed_calls</th>\n",
       "      <th>missed_calls_percentage</th>\n",
       "      <th>effective</th>\n",
       "    </tr>\n",
       "  </thead>\n",
       "  <tbody>\n",
       "    <tr>\n",
       "      <th>0</th>\n",
       "      <td>879896</td>\n",
       "      <td>5737</td>\n",
       "      <td>0</td>\n",
       "      <td>251</td>\n",
       "      <td>122.063830</td>\n",
       "      <td>47</td>\n",
       "      <td>18.725100</td>\n",
       "      <td>False</td>\n",
       "    </tr>\n",
       "    <tr>\n",
       "      <th>1</th>\n",
       "      <td>879898</td>\n",
       "      <td>49734</td>\n",
       "      <td>0</td>\n",
       "      <td>2360</td>\n",
       "      <td>558.808989</td>\n",
       "      <td>89</td>\n",
       "      <td>3.771186</td>\n",
       "      <td>False</td>\n",
       "    </tr>\n",
       "    <tr>\n",
       "      <th>3</th>\n",
       "      <td>880022</td>\n",
       "      <td>3110</td>\n",
       "      <td>0</td>\n",
       "      <td>105</td>\n",
       "      <td>107.241379</td>\n",
       "      <td>29</td>\n",
       "      <td>27.619048</td>\n",
       "      <td>False</td>\n",
       "    </tr>\n",
       "    <tr>\n",
       "      <th>4</th>\n",
       "      <td>880026</td>\n",
       "      <td>12273</td>\n",
       "      <td>0</td>\n",
       "      <td>648</td>\n",
       "      <td>141.068966</td>\n",
       "      <td>87</td>\n",
       "      <td>13.425926</td>\n",
       "      <td>False</td>\n",
       "    </tr>\n",
       "    <tr>\n",
       "      <th>5</th>\n",
       "      <td>880028</td>\n",
       "      <td>28734</td>\n",
       "      <td>0</td>\n",
       "      <td>993</td>\n",
       "      <td>350.414634</td>\n",
       "      <td>82</td>\n",
       "      <td>8.257805</td>\n",
       "      <td>False</td>\n",
       "    </tr>\n",
       "    <tr>\n",
       "      <th>...</th>\n",
       "      <td>...</td>\n",
       "      <td>...</td>\n",
       "      <td>...</td>\n",
       "      <td>...</td>\n",
       "      <td>...</td>\n",
       "      <td>...</td>\n",
       "      <td>...</td>\n",
       "      <td>...</td>\n",
       "    </tr>\n",
       "    <tr>\n",
       "      <th>867</th>\n",
       "      <td>970254</td>\n",
       "      <td>154</td>\n",
       "      <td>0</td>\n",
       "      <td>5</td>\n",
       "      <td>77.000000</td>\n",
       "      <td>2</td>\n",
       "      <td>40.000000</td>\n",
       "      <td>True</td>\n",
       "    </tr>\n",
       "    <tr>\n",
       "      <th>869</th>\n",
       "      <td>970484</td>\n",
       "      <td>26</td>\n",
       "      <td>0</td>\n",
       "      <td>5</td>\n",
       "      <td>13.000000</td>\n",
       "      <td>2</td>\n",
       "      <td>40.000000</td>\n",
       "      <td>True</td>\n",
       "    </tr>\n",
       "    <tr>\n",
       "      <th>872</th>\n",
       "      <td>972410</td>\n",
       "      <td>1042</td>\n",
       "      <td>0</td>\n",
       "      <td>37</td>\n",
       "      <td>521.000000</td>\n",
       "      <td>2</td>\n",
       "      <td>5.405405</td>\n",
       "      <td>True</td>\n",
       "    </tr>\n",
       "    <tr>\n",
       "      <th>873</th>\n",
       "      <td>972412</td>\n",
       "      <td>582</td>\n",
       "      <td>0</td>\n",
       "      <td>25</td>\n",
       "      <td>291.000000</td>\n",
       "      <td>2</td>\n",
       "      <td>8.000000</td>\n",
       "      <td>True</td>\n",
       "    </tr>\n",
       "    <tr>\n",
       "      <th>874</th>\n",
       "      <td>972460</td>\n",
       "      <td>367</td>\n",
       "      <td>0</td>\n",
       "      <td>28</td>\n",
       "      <td>122.333333</td>\n",
       "      <td>3</td>\n",
       "      <td>10.714286</td>\n",
       "      <td>True</td>\n",
       "    </tr>\n",
       "  </tbody>\n",
       "</table>\n",
       "<p>876 rows × 8 columns</p>\n",
       "</div>"
      ],
      "text/plain": [
       "     operator_id  total_call_duration  call_duration  calls_count   wait_time  \\\n",
       "0         879896                 5737              0          251  122.063830   \n",
       "1         879898                49734              0         2360  558.808989   \n",
       "3         880022                 3110              0          105  107.241379   \n",
       "4         880026                12273              0          648  141.068966   \n",
       "5         880028                28734              0          993  350.414634   \n",
       "..           ...                  ...            ...          ...         ...   \n",
       "867       970254                  154              0            5   77.000000   \n",
       "869       970484                   26              0            5   13.000000   \n",
       "872       972410                 1042              0           37  521.000000   \n",
       "873       972412                  582              0           25  291.000000   \n",
       "874       972460                  367              0           28  122.333333   \n",
       "\n",
       "     total_missed_calls  missed_calls_percentage  effective  \n",
       "0                    47                18.725100      False  \n",
       "1                    89                 3.771186      False  \n",
       "3                    29                27.619048      False  \n",
       "4                    87                13.425926      False  \n",
       "5                    82                 8.257805      False  \n",
       "..                  ...                      ...        ...  \n",
       "867                   2                40.000000       True  \n",
       "869                   2                40.000000       True  \n",
       "872                   2                 5.405405       True  \n",
       "873                   2                 8.000000       True  \n",
       "874                   3                10.714286       True  \n",
       "\n",
       "[876 rows x 8 columns]"
      ]
     },
     "execution_count": 27,
     "metadata": {},
     "output_type": "execute_result"
    }
   ],
   "source": [
    "ineffective_operators['effective'] = False \n",
    "effective_operators['effective'] = True \n",
    "\n",
    "final_operators = pd.concat([ineffective_operators, effective_operators])\n",
    "final_operators"
   ]
  },
  {
   "cell_type": "code",
   "execution_count": null,
   "metadata": {},
   "outputs": [
    {
     "data": {
      "text/html": [
       "<div>\n",
       "<style scoped>\n",
       "    .dataframe tbody tr th:only-of-type {\n",
       "        vertical-align: middle;\n",
       "    }\n",
       "\n",
       "    .dataframe tbody tr th {\n",
       "        vertical-align: top;\n",
       "    }\n",
       "\n",
       "    .dataframe thead th {\n",
       "        text-align: right;\n",
       "    }\n",
       "</style>\n",
       "<table border=\"1\" class=\"dataframe\">\n",
       "  <thead>\n",
       "    <tr style=\"text-align: right;\">\n",
       "      <th></th>\n",
       "      <th>operator_id</th>\n",
       "      <th>total_call_duration</th>\n",
       "      <th>call_duration</th>\n",
       "      <th>calls_count</th>\n",
       "      <th>wait_time</th>\n",
       "      <th>total_missed_calls</th>\n",
       "      <th>missed_calls_percentage</th>\n",
       "      <th>effective</th>\n",
       "      <th>cluster</th>\n",
       "    </tr>\n",
       "  </thead>\n",
       "  <tbody>\n",
       "    <tr>\n",
       "      <th>0</th>\n",
       "      <td>879896</td>\n",
       "      <td>5737</td>\n",
       "      <td>0</td>\n",
       "      <td>251</td>\n",
       "      <td>122.063830</td>\n",
       "      <td>47</td>\n",
       "      <td>18.725100</td>\n",
       "      <td>False</td>\n",
       "      <td>0</td>\n",
       "    </tr>\n",
       "    <tr>\n",
       "      <th>1</th>\n",
       "      <td>879898</td>\n",
       "      <td>49734</td>\n",
       "      <td>0</td>\n",
       "      <td>2360</td>\n",
       "      <td>558.808989</td>\n",
       "      <td>89</td>\n",
       "      <td>3.771186</td>\n",
       "      <td>False</td>\n",
       "      <td>0</td>\n",
       "    </tr>\n",
       "    <tr>\n",
       "      <th>3</th>\n",
       "      <td>880022</td>\n",
       "      <td>3110</td>\n",
       "      <td>0</td>\n",
       "      <td>105</td>\n",
       "      <td>107.241379</td>\n",
       "      <td>29</td>\n",
       "      <td>27.619048</td>\n",
       "      <td>False</td>\n",
       "      <td>0</td>\n",
       "    </tr>\n",
       "    <tr>\n",
       "      <th>4</th>\n",
       "      <td>880026</td>\n",
       "      <td>12273</td>\n",
       "      <td>0</td>\n",
       "      <td>648</td>\n",
       "      <td>141.068966</td>\n",
       "      <td>87</td>\n",
       "      <td>13.425926</td>\n",
       "      <td>False</td>\n",
       "      <td>0</td>\n",
       "    </tr>\n",
       "    <tr>\n",
       "      <th>5</th>\n",
       "      <td>880028</td>\n",
       "      <td>28734</td>\n",
       "      <td>0</td>\n",
       "      <td>993</td>\n",
       "      <td>350.414634</td>\n",
       "      <td>82</td>\n",
       "      <td>8.257805</td>\n",
       "      <td>False</td>\n",
       "      <td>0</td>\n",
       "    </tr>\n",
       "    <tr>\n",
       "      <th>...</th>\n",
       "      <td>...</td>\n",
       "      <td>...</td>\n",
       "      <td>...</td>\n",
       "      <td>...</td>\n",
       "      <td>...</td>\n",
       "      <td>...</td>\n",
       "      <td>...</td>\n",
       "      <td>...</td>\n",
       "      <td>...</td>\n",
       "    </tr>\n",
       "    <tr>\n",
       "      <th>867</th>\n",
       "      <td>970254</td>\n",
       "      <td>154</td>\n",
       "      <td>0</td>\n",
       "      <td>5</td>\n",
       "      <td>77.000000</td>\n",
       "      <td>2</td>\n",
       "      <td>40.000000</td>\n",
       "      <td>True</td>\n",
       "      <td>1</td>\n",
       "    </tr>\n",
       "    <tr>\n",
       "      <th>869</th>\n",
       "      <td>970484</td>\n",
       "      <td>26</td>\n",
       "      <td>0</td>\n",
       "      <td>5</td>\n",
       "      <td>13.000000</td>\n",
       "      <td>2</td>\n",
       "      <td>40.000000</td>\n",
       "      <td>True</td>\n",
       "      <td>1</td>\n",
       "    </tr>\n",
       "    <tr>\n",
       "      <th>872</th>\n",
       "      <td>972410</td>\n",
       "      <td>1042</td>\n",
       "      <td>0</td>\n",
       "      <td>37</td>\n",
       "      <td>521.000000</td>\n",
       "      <td>2</td>\n",
       "      <td>5.405405</td>\n",
       "      <td>True</td>\n",
       "      <td>1</td>\n",
       "    </tr>\n",
       "    <tr>\n",
       "      <th>873</th>\n",
       "      <td>972412</td>\n",
       "      <td>582</td>\n",
       "      <td>0</td>\n",
       "      <td>25</td>\n",
       "      <td>291.000000</td>\n",
       "      <td>2</td>\n",
       "      <td>8.000000</td>\n",
       "      <td>True</td>\n",
       "      <td>1</td>\n",
       "    </tr>\n",
       "    <tr>\n",
       "      <th>874</th>\n",
       "      <td>972460</td>\n",
       "      <td>367</td>\n",
       "      <td>0</td>\n",
       "      <td>28</td>\n",
       "      <td>122.333333</td>\n",
       "      <td>3</td>\n",
       "      <td>10.714286</td>\n",
       "      <td>True</td>\n",
       "      <td>1</td>\n",
       "    </tr>\n",
       "  </tbody>\n",
       "</table>\n",
       "<p>876 rows × 9 columns</p>\n",
       "</div>"
      ],
      "text/plain": [
       "     operator_id  total_call_duration  call_duration  calls_count   wait_time  \\\n",
       "0         879896                 5737              0          251  122.063830   \n",
       "1         879898                49734              0         2360  558.808989   \n",
       "3         880022                 3110              0          105  107.241379   \n",
       "4         880026                12273              0          648  141.068966   \n",
       "5         880028                28734              0          993  350.414634   \n",
       "..           ...                  ...            ...          ...         ...   \n",
       "867       970254                  154              0            5   77.000000   \n",
       "869       970484                   26              0            5   13.000000   \n",
       "872       972410                 1042              0           37  521.000000   \n",
       "873       972412                  582              0           25  291.000000   \n",
       "874       972460                  367              0           28  122.333333   \n",
       "\n",
       "     total_missed_calls  missed_calls_percentage  effective  cluster  \n",
       "0                    47                18.725100      False        0  \n",
       "1                    89                 3.771186      False        0  \n",
       "3                    29                27.619048      False        0  \n",
       "4                    87                13.425926      False        0  \n",
       "5                    82                 8.257805      False        0  \n",
       "..                  ...                      ...        ...      ...  \n",
       "867                   2                40.000000       True        1  \n",
       "869                   2                40.000000       True        1  \n",
       "872                   2                 5.405405       True        1  \n",
       "873                   2                 8.000000       True        1  \n",
       "874                   3                10.714286       True        1  \n",
       "\n",
       "[876 rows x 9 columns]"
      ]
     },
     "execution_count": 28,
     "metadata": {},
     "output_type": "execute_result"
    }
   ],
   "source": [
    "#Implementar algoritmos como K-Means  para identificar grupos de operadores\n",
    "scaler = StandardScaler()\n",
    "metrics_scaled = scaler.fit_transform(final_operators[['effective']])\n",
    "\n",
    "kmeans = KMeans(n_clusters=2, random_state=42)\n",
    "final_operators['cluster'] = kmeans.fit_predict(metrics_scaled)\n",
    "\n",
    "final_operators\n",
    "                                                       \n",
    "# total_call_duration', 'call_duration', 'calls_count', 'wait_time', 'total_missed_calls'"
   ]
  },
  {
   "cell_type": "markdown",
   "metadata": {},
   "source": [
    "Se implementa Kmeans para identificar los grupos de operadores con menor desempeño."
   ]
  },
  {
   "cell_type": "markdown",
   "metadata": {},
   "source": [
    "##  Visualizar los Resultados"
   ]
  },
  {
   "cell_type": "code",
   "execution_count": null,
   "metadata": {},
   "outputs": [
    {
     "data": {
      "image/png": "[encoded data removed]",
      "text/plain": [
       "<Figure size 640x480 with 1 Axes>"
      ]
     },
     "metadata": {},
     "output_type": "display_data"
    }
   ],
   "source": [
    "sns.scatterplot(\n",
    "    data=final_operators, x='total_missed_calls', y='wait_time', hue='cluster', palette='viridis'\n",
    ")\n",
    "plt.title('Clusters de Operadores según Eficiencia')\n",
    "plt.show()"
   ]
  },
  {
   "cell_type": "markdown",
   "metadata": {},
   "source": [
    "Interpretando los resultados de las métricas y los clústeres: \n",
    "Los clústeres agrupan operadores con características similares; los clúster en la esquina inferior izquierda representan el grupo de  operadores que gestionan las llamadas de manera eficiente. \n",
    "Los clústeres que se concentran en la parte superior es el grupo de operadores con mayores problemas, seria el grupo de operadores con un desempeño deficiente. Habría que analizar cuales son  los factores de esos porcentajes de llamadas perdidas y largos tiempo de espera. \n",
    "\n",
    "Los elementos del grupo 1 a diferencia del clúster 0 no cuentan con un tiempo de espera alto, y no cuentan con un número alto de llamadas perdidas. "
   ]
  },
  {
   "cell_type": "code",
   "execution_count": null,
   "metadata": {},
   "outputs": [
    {
     "data": {
      "image/png": "[encoded data removed]",
      "text/plain": [
       "<Figure size 640x480 with 1 Axes>"
      ]
     },
     "metadata": {},
     "output_type": "display_data"
    }
   ],
   "source": [
    "sns.scatterplot(y=final_operators['calls_count'], x=final_operators['total_missed_calls'], \n",
    "                data=final_operators, \n",
    "                hue='cluster', \n",
    "                palette='viridis'\n",
    ")\n",
    "plt.title('Clusters de Operadores según Eficiencia por llamadas perdidas')\n",
    "plt.show()"
   ]
  },
  {
   "cell_type": "markdown",
   "metadata": {},
   "source": [
    "Este gráfico muestra una comparación entre el total de llamadas contra el total de llamadas perdidas. \n",
    "En este caso los clústeres no muestras mucha similitud, el clúster 0 se muestran visiblemente superior a los clústeres 1. "
   ]
  },
  {
   "cell_type": "markdown",
   "metadata": {},
   "source": [
    "## Conclusiones "
   ]
  },
  {
   "cell_type": "markdown",
   "metadata": {},
   "source": [
    "Una vez realizado el análisis para poder identificar los operadores ineficaces en el servicio de telefonia CallMeMaybe se concluye lo siguiente: \n",
    "\n",
    "Se detectaron ciertos operadores con un desempeño deficiente. Los operadores menos eficaces mostraron una cantidad significativamente mayor de llamadas no atendidas. \n",
    "\n",
    "tiempos de espera prolongados, los operadores ineficaces están asociados con una mayor insatisfacción del cliente, debido a tiempos de espera prolongados y menor capacidad de resolución en llamadas entrantes. \n",
    "\n",
    "Se realizo una distribución por clústeres para poder segmentar los operadores de acuerdo a su desempeño. Las diferencias observadas entre los operadores eficaces e ineficaces son significativas. \n",
    "\n",
    "Recomendaciones\n",
    "\n",
    "Como analista de datos requerimos contar con mayor información. Por ejemplo, el horario de las llamadas; esto nos permitirá obtener las horas pico donde los usuarios realizan más llamadas y de esta manera obtener métricas que generen más valor para la toma de decisiones. \n",
    "\n",
    "Notificaciones proactivas: Implementar un sistema de notificaciones para detectar problemas de eficiencia de forma temprana, que genere un reporte sobre el desempeño de los operadores. \n",
    "\n",
    "\n",
    "\n",
    "\n"
   ]
  }
 ],
 "metadata": {
  "ExecuteTimeLog": [
   {
    "duration": 3216,
    "start_time": "2025-01-24T02:41:51.079Z"
   },
   {
    "duration": 78,
    "start_time": "2025-01-24T02:42:15.620Z"
   },
   {
    "duration": 8,
    "start_time": "2025-01-24T02:42:27.291Z"
   },
   {
    "duration": 5,
    "start_time": "2025-01-24T02:42:41.428Z"
   },
   {
    "duration": 13,
    "start_time": "2025-01-24T02:42:57.088Z"
   },
   {
    "duration": 14,
    "start_time": "2025-01-24T02:43:09.759Z"
   },
   {
    "duration": 13,
    "start_time": "2025-01-24T02:43:26.105Z"
   },
   {
    "duration": 7,
    "start_time": "2025-01-24T02:43:37.617Z"
   },
   {
    "duration": 3,
    "start_time": "2025-01-24T02:44:12.643Z"
   },
   {
    "duration": 30,
    "start_time": "2025-01-24T02:44:50.587Z"
   },
   {
    "duration": 12,
    "start_time": "2025-01-24T02:45:19.804Z"
   },
   {
    "duration": 31,
    "start_time": "2025-01-24T02:45:31.066Z"
   },
   {
    "duration": 25,
    "start_time": "2025-01-24T02:46:25.858Z"
   },
   {
    "duration": 9,
    "start_time": "2025-01-24T02:46:39.617Z"
   },
   {
    "duration": 13,
    "start_time": "2025-01-24T02:47:17.103Z"
   },
   {
    "duration": 23,
    "start_time": "2025-01-24T02:47:31.374Z"
   },
   {
    "duration": 29,
    "start_time": "2025-01-24T02:47:44.257Z"
   },
   {
    "duration": 8,
    "start_time": "2025-01-24T02:48:20.295Z"
   },
   {
    "duration": 16,
    "start_time": "2025-01-24T02:48:31.903Z"
   },
   {
    "duration": 11,
    "start_time": "2025-01-24T02:50:14.412Z"
   },
   {
    "duration": 9,
    "start_time": "2025-01-24T02:51:19.253Z"
   },
   {
    "duration": 17,
    "start_time": "2025-01-24T02:52:58.487Z"
   },
   {
    "duration": 29,
    "start_time": "2025-01-24T02:53:40.767Z"
   },
   {
    "duration": 299,
    "start_time": "2025-01-24T02:54:25.738Z"
   },
   {
    "duration": 155,
    "start_time": "2025-01-26T05:24:33.963Z"
   },
   {
    "duration": 2711,
    "start_time": "2025-01-26T05:24:54.510Z"
   },
   {
    "duration": 69,
    "start_time": "2025-01-26T05:24:57.224Z"
   },
   {
    "duration": 7,
    "start_time": "2025-01-26T05:24:57.295Z"
   },
   {
    "duration": 4,
    "start_time": "2025-01-26T05:24:57.303Z"
   },
   {
    "duration": 14,
    "start_time": "2025-01-26T05:24:57.309Z"
   },
   {
    "duration": 8,
    "start_time": "2025-01-26T05:24:57.324Z"
   },
   {
    "duration": 11,
    "start_time": "2025-01-26T05:24:57.334Z"
   },
   {
    "duration": 6,
    "start_time": "2025-01-26T05:24:57.347Z"
   },
   {
    "duration": 21,
    "start_time": "2025-01-26T05:24:57.355Z"
   },
   {
    "duration": 9,
    "start_time": "2025-01-26T05:24:57.378Z"
   },
   {
    "duration": 56,
    "start_time": "2025-01-26T05:24:57.389Z"
   },
   {
    "duration": 19,
    "start_time": "2025-01-26T05:24:57.447Z"
   },
   {
    "duration": 6,
    "start_time": "2025-01-26T05:24:57.468Z"
   },
   {
    "duration": 12,
    "start_time": "2025-01-26T05:24:57.477Z"
   },
   {
    "duration": 48,
    "start_time": "2025-01-26T05:24:57.490Z"
   },
   {
    "duration": 21,
    "start_time": "2025-01-26T05:24:57.540Z"
   },
   {
    "duration": 6,
    "start_time": "2025-01-26T05:24:57.564Z"
   },
   {
    "duration": 14,
    "start_time": "2025-01-26T05:24:57.572Z"
   },
   {
    "duration": 7,
    "start_time": "2025-01-26T05:24:57.587Z"
   },
   {
    "duration": 13,
    "start_time": "2025-01-26T05:24:57.625Z"
   },
   {
    "duration": 8,
    "start_time": "2025-01-26T05:24:57.640Z"
   },
   {
    "duration": 22,
    "start_time": "2025-01-26T05:24:57.650Z"
   },
   {
    "duration": 193,
    "start_time": "2025-01-26T05:24:57.674Z"
   },
   {
    "duration": 12,
    "start_time": "2025-01-26T05:26:43.851Z"
   },
   {
    "duration": 10,
    "start_time": "2025-01-26T05:27:05.029Z"
   },
   {
    "duration": 10,
    "start_time": "2025-01-26T05:27:19.077Z"
   },
   {
    "duration": 10,
    "start_time": "2025-01-26T05:47:16.413Z"
   },
   {
    "duration": 6,
    "start_time": "2025-01-26T05:48:47.293Z"
   },
   {
    "duration": 183,
    "start_time": "2025-01-26T18:33:07.151Z"
   },
   {
    "duration": 2707,
    "start_time": "2025-01-26T18:33:19.242Z"
   },
   {
    "duration": 68,
    "start_time": "2025-01-26T18:33:21.952Z"
   },
   {
    "duration": 6,
    "start_time": "2025-01-26T18:33:22.022Z"
   },
   {
    "duration": 4,
    "start_time": "2025-01-26T18:33:22.031Z"
   },
   {
    "duration": 13,
    "start_time": "2025-01-26T18:33:22.036Z"
   },
   {
    "duration": 8,
    "start_time": "2025-01-26T18:33:22.050Z"
   },
   {
    "duration": 12,
    "start_time": "2025-01-26T18:33:22.060Z"
   },
   {
    "duration": 6,
    "start_time": "2025-01-26T18:33:22.073Z"
   },
   {
    "duration": 47,
    "start_time": "2025-01-26T18:33:22.081Z"
   },
   {
    "duration": 9,
    "start_time": "2025-01-26T18:33:22.131Z"
   },
   {
    "duration": 21,
    "start_time": "2025-01-26T18:33:22.143Z"
   },
   {
    "duration": 18,
    "start_time": "2025-01-26T18:33:22.165Z"
   },
   {
    "duration": 28,
    "start_time": "2025-01-26T18:33:22.185Z"
   },
   {
    "duration": 12,
    "start_time": "2025-01-26T18:33:22.215Z"
   },
   {
    "duration": 17,
    "start_time": "2025-01-26T18:33:22.229Z"
   },
   {
    "duration": 22,
    "start_time": "2025-01-26T18:33:22.248Z"
   },
   {
    "duration": 38,
    "start_time": "2025-01-26T18:33:22.272Z"
   },
   {
    "duration": 17,
    "start_time": "2025-01-26T18:33:22.311Z"
   },
   {
    "duration": 6,
    "start_time": "2025-01-26T18:33:22.330Z"
   },
   {
    "duration": 9,
    "start_time": "2025-01-26T18:33:22.338Z"
   },
   {
    "duration": 169,
    "start_time": "2025-01-26T18:33:22.349Z"
   },
   {
    "duration": 8,
    "start_time": "2025-01-26T18:33:22.519Z"
   },
   {
    "duration": 22,
    "start_time": "2025-01-26T18:33:22.529Z"
   },
   {
    "duration": 182,
    "start_time": "2025-01-26T18:33:22.552Z"
   },
   {
    "duration": 111,
    "start_time": "2025-01-26T18:35:42.672Z"
   },
   {
    "duration": 134,
    "start_time": "2025-01-26T18:36:48.036Z"
   },
   {
    "duration": 11,
    "start_time": "2025-01-26T18:39:12.797Z"
   },
   {
    "duration": 5,
    "start_time": "2025-01-26T18:50:38.358Z"
   },
   {
    "duration": 13,
    "start_time": "2025-01-26T18:52:27.426Z"
   },
   {
    "duration": 8,
    "start_time": "2025-01-26T18:54:30.231Z"
   },
   {
    "duration": 13,
    "start_time": "2025-01-26T18:59:51.440Z"
   },
   {
    "duration": 20,
    "start_time": "2025-01-26T19:00:45.270Z"
   },
   {
    "duration": 12,
    "start_time": "2025-01-26T19:11:07.022Z"
   },
   {
    "duration": 7,
    "start_time": "2025-01-26T19:12:19.376Z"
   },
   {
    "duration": 8,
    "start_time": "2025-01-26T19:13:42.344Z"
   },
   {
    "duration": 83,
    "start_time": "2025-01-26T19:14:23.954Z"
   },
   {
    "duration": 20,
    "start_time": "2025-01-26T19:17:37.907Z"
   },
   {
    "duration": 20,
    "start_time": "2025-01-26T19:18:49.093Z"
   },
   {
    "duration": 440,
    "start_time": "2025-01-26T19:22:03.398Z"
   },
   {
    "duration": 135,
    "start_time": "2025-01-26T19:22:20.044Z"
   },
   {
    "duration": 13,
    "start_time": "2025-01-26T19:22:32.679Z"
   },
   {
    "duration": 12,
    "start_time": "2025-01-26T19:22:46.991Z"
   },
   {
    "duration": 44,
    "start_time": "2025-01-26T19:23:11.598Z"
   },
   {
    "duration": 13,
    "start_time": "2025-01-26T19:23:51.506Z"
   },
   {
    "duration": 20,
    "start_time": "2025-01-26T19:25:49.671Z"
   },
   {
    "duration": 21,
    "start_time": "2025-01-26T19:27:21.989Z"
   },
   {
    "duration": 15,
    "start_time": "2025-01-26T19:27:35.780Z"
   },
   {
    "duration": 16,
    "start_time": "2025-01-26T19:28:22.136Z"
   },
   {
    "duration": 8,
    "start_time": "2025-01-26T19:28:34.547Z"
   },
   {
    "duration": 8,
    "start_time": "2025-01-26T19:28:51.683Z"
   },
   {
    "duration": 12,
    "start_time": "2025-01-26T19:29:18.683Z"
   },
   {
    "duration": 308,
    "start_time": "2025-01-26T19:30:21.119Z"
   },
   {
    "duration": 13,
    "start_time": "2025-01-26T19:30:38.051Z"
   },
   {
    "duration": 7,
    "start_time": "2025-01-26T19:30:54.292Z"
   },
   {
    "duration": 12,
    "start_time": "2025-01-26T19:31:16.767Z"
   },
   {
    "duration": 23,
    "start_time": "2025-01-26T19:31:42.445Z"
   },
   {
    "duration": 21,
    "start_time": "2025-01-26T19:32:00.827Z"
   },
   {
    "duration": 9,
    "start_time": "2025-01-26T19:32:20.257Z"
   },
   {
    "duration": 22,
    "start_time": "2025-01-26T19:33:37.548Z"
   },
   {
    "duration": 21,
    "start_time": "2025-01-26T19:34:03.963Z"
   },
   {
    "duration": 17,
    "start_time": "2025-01-26T19:34:36.656Z"
   },
   {
    "duration": 9,
    "start_time": "2025-01-26T19:35:02.842Z"
   },
   {
    "duration": 17,
    "start_time": "2025-01-26T19:36:18.138Z"
   },
   {
    "duration": 18,
    "start_time": "2025-01-26T19:37:18.963Z"
   },
   {
    "duration": 17,
    "start_time": "2025-01-26T19:39:46.192Z"
   },
   {
    "duration": 5,
    "start_time": "2025-01-26T19:43:34.456Z"
   },
   {
    "duration": 13,
    "start_time": "2025-01-26T19:47:33.435Z"
   },
   {
    "duration": 13,
    "start_time": "2025-01-26T19:49:40.737Z"
   },
   {
    "duration": 8,
    "start_time": "2025-01-26T19:51:13.384Z"
   },
   {
    "duration": 14,
    "start_time": "2025-01-26T19:51:28.257Z"
   },
   {
    "duration": 13,
    "start_time": "2025-01-26T19:52:08.369Z"
   },
   {
    "duration": 15,
    "start_time": "2025-01-26T19:52:30.008Z"
   },
   {
    "duration": 13,
    "start_time": "2025-01-26T19:53:04.766Z"
   },
   {
    "duration": 14,
    "start_time": "2025-01-26T19:53:36.293Z"
   },
   {
    "duration": 8,
    "start_time": "2025-01-26T19:54:17.260Z"
   },
   {
    "duration": 13,
    "start_time": "2025-01-26T19:54:22.891Z"
   },
   {
    "duration": 107,
    "start_time": "2025-01-26T19:57:33.593Z"
   },
   {
    "duration": 112,
    "start_time": "2025-01-26T19:58:08.113Z"
   },
   {
    "duration": 260,
    "start_time": "2025-01-26T19:59:03.238Z"
   },
   {
    "duration": 144,
    "start_time": "2025-01-26T19:59:40.308Z"
   },
   {
    "duration": 126,
    "start_time": "2025-01-26T20:01:00.154Z"
   },
   {
    "duration": 114,
    "start_time": "2025-01-26T20:01:38.184Z"
   },
   {
    "duration": 119,
    "start_time": "2025-01-26T20:02:32.144Z"
   },
   {
    "duration": 123,
    "start_time": "2025-01-26T20:02:39.637Z"
   },
   {
    "duration": 116,
    "start_time": "2025-01-26T20:02:56.372Z"
   },
   {
    "duration": 123,
    "start_time": "2025-01-26T20:03:10.729Z"
   },
   {
    "duration": 27,
    "start_time": "2025-01-26T20:03:19.927Z"
   },
   {
    "duration": 151,
    "start_time": "2025-01-26T20:03:31.134Z"
   },
   {
    "duration": 158,
    "start_time": "2025-01-26T20:05:10.606Z"
   },
   {
    "duration": 162,
    "start_time": "2025-01-26T20:06:03.005Z"
   },
   {
    "duration": 21,
    "start_time": "2025-01-26T20:18:46.895Z"
   },
   {
    "duration": 179,
    "start_time": "2025-01-27T16:27:34.813Z"
   },
   {
    "duration": 19,
    "start_time": "2025-01-27T16:28:07.606Z"
   },
   {
    "duration": 2842,
    "start_time": "2025-01-27T16:28:14.741Z"
   },
   {
    "duration": 66,
    "start_time": "2025-01-27T16:28:17.586Z"
   },
   {
    "duration": 8,
    "start_time": "2025-01-27T16:28:17.654Z"
   },
   {
    "duration": 5,
    "start_time": "2025-01-27T16:28:18.080Z"
   },
   {
    "duration": 14,
    "start_time": "2025-01-27T16:28:18.467Z"
   },
   {
    "duration": 8,
    "start_time": "2025-01-27T16:28:18.823Z"
   },
   {
    "duration": 12,
    "start_time": "2025-01-27T16:28:19.138Z"
   },
   {
    "duration": 7,
    "start_time": "2025-01-27T16:28:19.422Z"
   },
   {
    "duration": 91,
    "start_time": "2025-01-27T16:28:26.747Z"
   },
   {
    "duration": 18,
    "start_time": "2025-01-27T16:29:14.869Z"
   },
   {
    "duration": 152,
    "start_time": "2025-01-27T16:29:46.232Z"
   },
   {
    "duration": 498,
    "start_time": "2025-01-27T16:31:35.824Z"
   },
   {
    "duration": 18,
    "start_time": "2025-01-27T16:34:12.269Z"
   },
   {
    "duration": 11193,
    "start_time": "2025-01-27T16:34:45.255Z"
   },
   {
    "duration": 3,
    "start_time": "2025-01-27T16:35:00.068Z"
   },
   {
    "duration": 36,
    "start_time": "2025-01-27T16:35:00.914Z"
   },
   {
    "duration": 11154,
    "start_time": "2025-01-27T16:35:11.489Z"
   },
   {
    "duration": 11346,
    "start_time": "2025-01-27T16:38:15.864Z"
   },
   {
    "duration": 8,
    "start_time": "2025-01-27T16:53:12.438Z"
   },
   {
    "duration": 738,
    "start_time": "2025-01-27T16:53:31.974Z"
   },
   {
    "duration": 81,
    "start_time": "2025-01-27T16:55:05.748Z"
   },
   {
    "duration": 77,
    "start_time": "2025-01-27T16:56:00.379Z"
   },
   {
    "duration": 161,
    "start_time": "2025-01-27T22:25:51.072Z"
   },
   {
    "duration": 2798,
    "start_time": "2025-01-27T22:26:02.765Z"
   },
   {
    "duration": 62,
    "start_time": "2025-01-27T22:26:05.565Z"
   },
   {
    "duration": 91,
    "start_time": "2025-01-27T22:26:12.366Z"
   },
   {
    "duration": 3,
    "start_time": "2025-01-27T22:26:20.401Z"
   },
   {
    "duration": 38,
    "start_time": "2025-01-27T22:26:20.893Z"
   },
   {
    "duration": 7,
    "start_time": "2025-01-27T22:26:21.290Z"
   },
   {
    "duration": 4,
    "start_time": "2025-01-27T22:26:21.600Z"
   },
   {
    "duration": 15,
    "start_time": "2025-01-27T22:26:21.868Z"
   },
   {
    "duration": 8,
    "start_time": "2025-01-27T22:26:22.104Z"
   },
   {
    "duration": 12,
    "start_time": "2025-01-27T22:26:22.321Z"
   },
   {
    "duration": 7,
    "start_time": "2025-01-27T22:26:22.517Z"
   },
   {
    "duration": 28,
    "start_time": "2025-01-27T22:26:23.827Z"
   },
   {
    "duration": 10,
    "start_time": "2025-01-27T22:26:24.286Z"
   },
   {
    "duration": 22,
    "start_time": "2025-01-27T22:26:24.467Z"
   },
   {
    "duration": 19,
    "start_time": "2025-01-27T22:26:25.587Z"
   },
   {
    "duration": 8,
    "start_time": "2025-01-27T22:26:25.814Z"
   },
   {
    "duration": 13,
    "start_time": "2025-01-27T22:26:26.394Z"
   },
   {
    "duration": 19,
    "start_time": "2025-01-27T22:26:26.581Z"
   },
   {
    "duration": 21,
    "start_time": "2025-01-27T22:26:26.766Z"
   },
   {
    "duration": 9,
    "start_time": "2025-01-27T22:26:27.864Z"
   },
   {
    "duration": 20,
    "start_time": "2025-01-27T22:26:28.147Z"
   },
   {
    "duration": 17,
    "start_time": "2025-01-27T22:26:28.467Z"
   },
   {
    "duration": 5,
    "start_time": "2025-01-27T22:26:29.808Z"
   },
   {
    "duration": 12,
    "start_time": "2025-01-27T22:26:31.388Z"
   },
   {
    "duration": 13,
    "start_time": "2025-01-27T22:26:37.871Z"
   },
   {
    "duration": 11,
    "start_time": "2025-01-27T22:29:20.960Z"
   },
   {
    "duration": 13,
    "start_time": "2025-01-27T22:30:06.375Z"
   },
   {
    "duration": 11,
    "start_time": "2025-01-27T22:31:21.410Z"
   },
   {
    "duration": 16,
    "start_time": "2025-01-27T22:31:49.741Z"
   },
   {
    "duration": 15,
    "start_time": "2025-01-27T22:32:17.825Z"
   },
   {
    "duration": 91,
    "start_time": "2025-01-27T22:49:15.863Z"
   },
   {
    "duration": 122,
    "start_time": "2025-01-27T22:53:56.209Z"
   },
   {
    "duration": 153,
    "start_time": "2025-01-27T23:27:27.379Z"
   },
   {
    "duration": 125,
    "start_time": "2025-01-27T23:39:49.834Z"
   },
   {
    "duration": 140,
    "start_time": "2025-01-27T23:41:44.226Z"
   },
   {
    "duration": 4,
    "start_time": "2025-01-27T23:42:03.075Z"
   },
   {
    "duration": 40,
    "start_time": "2025-01-27T23:42:03.816Z"
   },
   {
    "duration": 6,
    "start_time": "2025-01-27T23:42:03.958Z"
   },
   {
    "duration": 5,
    "start_time": "2025-01-27T23:42:04.285Z"
   },
   {
    "duration": 13,
    "start_time": "2025-01-27T23:42:04.557Z"
   },
   {
    "duration": 8,
    "start_time": "2025-01-27T23:42:04.821Z"
   },
   {
    "duration": 10,
    "start_time": "2025-01-27T23:42:05.062Z"
   },
   {
    "duration": 7,
    "start_time": "2025-01-27T23:42:05.288Z"
   },
   {
    "duration": 9,
    "start_time": "2025-01-27T23:42:17.897Z"
   },
   {
    "duration": 30,
    "start_time": "2025-01-27T23:42:22.765Z"
   },
   {
    "duration": 154,
    "start_time": "2025-01-27T23:42:25.934Z"
   },
   {
    "duration": 161,
    "start_time": "2025-01-28T00:14:23.849Z"
   },
   {
    "duration": 128,
    "start_time": "2025-01-28T00:16:06.773Z"
   },
   {
    "duration": 12,
    "start_time": "2025-01-28T00:21:19.704Z"
   },
   {
    "duration": 141,
    "start_time": "2025-01-28T00:21:37.804Z"
   },
   {
    "duration": 145,
    "start_time": "2025-01-28T00:22:27.919Z"
   },
   {
    "duration": 7,
    "start_time": "2025-01-28T00:42:52.104Z"
   },
   {
    "duration": 19,
    "start_time": "2025-01-28T00:43:57.698Z"
   },
   {
    "duration": 23,
    "start_time": "2025-01-28T00:44:28.728Z"
   },
   {
    "duration": 306,
    "start_time": "2025-01-28T00:46:33.191Z"
   },
   {
    "duration": 3,
    "start_time": "2025-01-28T04:32:48.384Z"
   },
   {
    "duration": 12,
    "start_time": "2025-01-28T04:33:32.875Z"
   },
   {
    "duration": 56,
    "start_time": "2025-01-28T04:39:45.277Z"
   },
   {
    "duration": 17,
    "start_time": "2025-01-28T04:40:58.570Z"
   },
   {
    "duration": 31,
    "start_time": "2025-01-28T04:45:28.781Z"
   },
   {
    "duration": 172,
    "start_time": "2025-01-28T04:48:13.063Z"
   },
   {
    "duration": 28,
    "start_time": "2025-01-28T04:51:08.550Z"
   },
   {
    "duration": 23,
    "start_time": "2025-01-28T04:52:06.427Z"
   },
   {
    "duration": 162,
    "start_time": "2025-01-28T04:53:22.609Z"
   },
   {
    "duration": 159,
    "start_time": "2025-01-28T05:01:59.609Z"
   },
   {
    "duration": 161,
    "start_time": "2025-01-28T05:08:07.070Z"
   },
   {
    "duration": 2788,
    "start_time": "2025-01-28T16:28:57.164Z"
   },
   {
    "duration": 63,
    "start_time": "2025-01-28T16:28:59.954Z"
   },
   {
    "duration": 8,
    "start_time": "2025-01-28T16:29:00.018Z"
   },
   {
    "duration": 4,
    "start_time": "2025-01-28T16:29:00.027Z"
   },
   {
    "duration": 66,
    "start_time": "2025-01-28T16:29:00.033Z"
   },
   {
    "duration": 7,
    "start_time": "2025-01-28T16:29:00.101Z"
   },
   {
    "duration": 4,
    "start_time": "2025-01-28T17:03:09.116Z"
   },
   {
    "duration": 38,
    "start_time": "2025-01-28T17:03:10.193Z"
   },
   {
    "duration": 5,
    "start_time": "2025-01-28T17:03:10.961Z"
   },
   {
    "duration": 2795,
    "start_time": "2025-04-04T01:11:05.032Z"
   },
   {
    "duration": 62,
    "start_time": "2025-04-04T01:11:07.829Z"
   },
   {
    "duration": 9,
    "start_time": "2025-04-04T01:11:08.971Z"
   },
   {
    "duration": 5,
    "start_time": "2025-04-04T01:11:09.982Z"
   },
   {
    "duration": 14,
    "start_time": "2025-04-04T01:11:10.991Z"
   },
   {
    "duration": 11,
    "start_time": "2025-04-04T01:11:11.680Z"
   },
   {
    "duration": 13,
    "start_time": "2025-04-04T01:11:12.589Z"
   },
   {
    "duration": 7,
    "start_time": "2025-04-04T01:11:13.182Z"
   },
   {
    "duration": 22,
    "start_time": "2025-04-04T01:11:16.030Z"
   },
   {
    "duration": 11,
    "start_time": "2025-04-04T01:11:17.349Z"
   },
   {
    "duration": 24,
    "start_time": "2025-04-04T01:11:17.856Z"
   },
   {
    "duration": 19,
    "start_time": "2025-04-04T01:11:21.148Z"
   },
   {
    "duration": 8,
    "start_time": "2025-04-04T01:11:22.342Z"
   },
   {
    "duration": 23,
    "start_time": "2025-04-04T01:11:23.681Z"
   },
   {
    "duration": 20,
    "start_time": "2025-04-04T01:11:24.378Z"
   },
   {
    "duration": 26,
    "start_time": "2025-04-04T01:11:25.237Z"
   },
   {
    "duration": 10,
    "start_time": "2025-04-04T01:11:26.572Z"
   },
   {
    "duration": 19,
    "start_time": "2025-04-04T01:11:27.298Z"
   },
   {
    "duration": 17,
    "start_time": "2025-04-04T01:11:28.115Z"
   },
   {
    "duration": 5,
    "start_time": "2025-04-04T01:11:31.463Z"
   },
   {
    "duration": 13,
    "start_time": "2025-04-04T01:11:39.613Z"
   },
   {
    "duration": 13,
    "start_time": "2025-04-04T01:11:49.052Z"
   },
   {
    "duration": 133,
    "start_time": "2025-04-04T01:11:52.103Z"
   },
   {
    "duration": 126,
    "start_time": "2025-04-04T01:12:09.337Z"
   },
   {
    "duration": 216,
    "start_time": "2025-04-04T01:12:10.069Z"
   },
   {
    "duration": 9,
    "start_time": "2025-04-04T01:12:15.647Z"
   },
   {
    "duration": 16,
    "start_time": "2025-04-04T01:12:16.546Z"
   },
   {
    "duration": 21,
    "start_time": "2025-04-04T01:12:17.498Z"
   },
   {
    "duration": 161,
    "start_time": "2025-04-04T01:12:23.822Z"
   },
   {
    "duration": 164,
    "start_time": "2025-04-04T01:12:29.268Z"
   }
  ],
  "kernelspec": {
   "display_name": "Python 3 (ipykernel)",
   "language": "python",
   "name": "python3"
  },
  "language_info": {
   "codemirror_mode": {
    "name": "ipython",
    "version": 3
   },
   "file_extension": ".py",
   "mimetype": "text/x-python",
   "name": "python",
   "nbconvert_exporter": "python",
   "pygments_lexer": "ipython3",
   "version": "3.9.19"
  },
  "toc": {
   "base_numbering": 1,
   "nav_menu": {},
   "number_sections": true,
   "sideBar": true,
   "skip_h1_title": true,
   "title_cell": "Table of Contents",
   "title_sidebar": "Contents",
   "toc_cell": false,
   "toc_position": {
    "height": "calc(100% - 180px)",
    "left": "10px",
    "top": "150px",
    "width": "165px"
   },
   "toc_section_display": true,
   "toc_window_display": true
  }
 },
 "nbformat": 4,
 "nbformat_minor": 2
}
